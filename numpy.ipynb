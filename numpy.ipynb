{
 "cells": [
  {
   "cell_type": "markdown",
   "metadata": {},
   "source": [
    "# NumPy Basics\n",
    "\n",
    "NumPy - short for numerical Python - is an essential foundational packages for numerical computing in Python. One of Numpy's primary use in data analysis applications is as a container for data to be passed between algorithms and libraries. NumPy is more efficient for storing and manipulating data than the other built-in Python data structures is because it is designed for efficiency on large arrays of data. Reasons for this are:\n",
    "\n",
    "+ NumPy internally stores data in a contigious block of memory, independent of other built-in Python objects. It operate on this memory without any type checking or other overhead. NumPy also uses much less memory than other built-in Python sequences.\n",
    "+ NumPy operations perform complex computations on entire arrays without the need for Python `for` loops.\n",
    "\n",
    "Examples below illustrate the performance difference between computations on a NumPy array and a Python list:"
   ]
  },
  {
   "cell_type": "code",
   "execution_count": 1,
   "metadata": {},
   "outputs": [
    {
     "name": "stdout",
     "output_type": "stream",
     "text": [
      "CPU times: user 8.49 ms, sys: 8.12 ms, total: 16.6 ms\n",
      "Wall time: 16.6 ms\n",
      "CPU times: user 357 ms, sys: 88.4 ms, total: 445 ms\n",
      "Wall time: 445 ms\n"
     ]
    }
   ],
   "source": [
    "import numpy as np\n",
    "\n",
    "my_arr = np.arange(1_000_000)    # numpy array\n",
    "my_list = list(range(1_000_000)) # Python list\n",
    "\n",
    "# compute and display processing time for comparison\n",
    "%time for _ in range(10): my_arr2 = my_arr*2\n",
    "# time < 20 ms\n",
    "    \n",
    "%time for _ in range(10): my_list2 = [x * 2 for x in my_list]\n",
    "# time 400+ ms"
   ]
  },
  {
   "cell_type": "markdown",
   "metadata": {},
   "source": [
    "## The NumPy *ndarray*\n",
    "\n",
    "A key features of NumPy is its N-dimensional array object, or *ndarray* - a fast, flexible container for large datasets in Python. Arrays enable you to perform mathematical operations on whole blocks of data using similar syntax equivalent operations between scalar elements. Below are some examples of computations on NumPy arrays:"
   ]
  },
  {
   "cell_type": "code",
   "execution_count": 2,
   "metadata": {},
   "outputs": [
    {
     "name": "stdout",
     "output_type": "stream",
     "text": [
      "[[-0.33663729  1.90297615  1.74023852]\n",
      " [-0.94195998  0.25790561  2.06631049]]\n",
      "\n",
      "[[-3.36637289 19.02976147 17.40238522]\n",
      " [-9.41959983  2.57905607 20.66310487]]\n",
      "\n",
      "[[-0.67327458  3.80595229  3.48047704]\n",
      " [-1.88391997  0.51581121  4.13262097]]\n"
     ]
    }
   ],
   "source": [
    "data = np.random.randn(2,3) # generate 2x3 array of random numbers\n",
    "print(data)\n",
    "print(\"\")\n",
    "\n",
    "# multiply all elements by 10 in the array\n",
    "print(data * 10)\n",
    "print(\"\")\n",
    "\n",
    "# add each array element by itself, i.e. double the elements\n",
    "print(data + data)"
   ]
  },
  {
   "cell_type": "markdown",
   "metadata": {},
   "source": [
    "### Creating *ndarrays*\n",
    "\n",
    "Use the `array` function from the `numpy` class to create an array. For example:"
   ]
  },
  {
   "cell_type": "code",
   "execution_count": 3,
   "metadata": {},
   "outputs": [
    {
     "name": "stdout",
     "output_type": "stream",
     "text": [
      "[6, 7.5, 8, 0, 1]\n",
      "[6.  7.5 8.  0.  1. ]\n",
      "\n",
      "[[1, 2, 3, 4], [5, 6, 7, 8]]\n",
      "[[1 2 3 4]\n",
      " [5 6 7 8]]\n"
     ]
    }
   ],
   "source": [
    "data1 = [6, 7.5, 8, 0, 1]  # a list of numbers\n",
    "print(data1)\n",
    "\n",
    "arr1 = np.array(data1) # convert a list to numpy array\n",
    "print(arr1)\n",
    "print(\"\")\n",
    "\n",
    "data2 = [[1, 2, 3, 4], [5, 6, 7, 8]]  # a nested list comprising list of numbers\n",
    "print(data2)\n",
    "\n",
    "arr2 = np.array(data2) # convert nested lists to numpy array\n",
    "print(arr2)"
   ]
  },
  {
   "cell_type": "markdown",
   "metadata": {},
   "source": [
    "Inspecting dimensions of arrays:"
   ]
  },
  {
   "cell_type": "code",
   "execution_count": 4,
   "metadata": {},
   "outputs": [
    {
     "name": "stdout",
     "output_type": "stream",
     "text": [
      "2\n",
      "(2, 4)\n"
     ]
    }
   ],
   "source": [
    "# checking dimensions of ndarray\n",
    "print(arr2.ndim)  # get n dimensions (i.e. rows)\n",
    "\n",
    "print(arr2.shape) # get n rows and m columns"
   ]
  },
  {
   "cell_type": "markdown",
   "metadata": {},
   "source": [
    "The `numpy.array()` arrays will attempt to infer an appropriate data type for the array created:"
   ]
  },
  {
   "cell_type": "code",
   "execution_count": 5,
   "metadata": {},
   "outputs": [
    {
     "name": "stdout",
     "output_type": "stream",
     "text": [
      "float64\n",
      "int64\n"
     ]
    }
   ],
   "source": [
    "print(arr1.dtype)  # float64\n",
    "print(arr2.dtype)  # int64"
   ]
  },
  {
   "cell_type": "markdown",
   "metadata": {},
   "source": [
    "In addition to `np.array`, there are other ways for creating new arrays. As examples, zeros and ones create arrays of 0s and 1s, respectively, with a given length or shape. `empty` creates an array without initialising its values to any particular value. To create higher dimensional array with these methods, pass a tuple for the shape:"
   ]
  },
  {
   "cell_type": "code",
   "execution_count": 6,
   "metadata": {},
   "outputs": [
    {
     "name": "stdout",
     "output_type": "stream",
     "text": [
      "[0. 0. 0. 0. 0. 0. 0. 0. 0. 0.]\n",
      "\n",
      "[[0. 0. 0. 0. 0. 0.]\n",
      " [0. 0. 0. 0. 0. 0.]\n",
      " [0. 0. 0. 0. 0. 0.]]\n",
      "\n",
      "[[[4.65275898e-310 0.00000000e+000]\n",
      "  [0.00000000e+000 0.00000000e+000]\n",
      "  [0.00000000e+000 0.00000000e+000]]\n",
      "\n",
      " [[0.00000000e+000 0.00000000e+000]\n",
      "  [0.00000000e+000 0.00000000e+000]\n",
      "  [0.00000000e+000 0.00000000e+000]]]\n",
      "\n"
     ]
    }
   ],
   "source": [
    "# create array of 10 zeroes\n",
    "print(np.zeros(10))\n",
    "print(\"\")\n",
    "\n",
    "# create 3x6 array of zeroes\n",
    "print(np.zeros((3, 6)))\n",
    "print(\"\")\n",
    "\n",
    "# create empty array of 2x3x2\n",
    "print(np.empty((2, 3, 2)))\n",
    "print(\"\")"
   ]
  },
  {
   "cell_type": "markdown",
   "metadata": {},
   "source": [
    "**Note**: *`np.empty` does not set array values to zeroes; it may return uninitialised \"garbage\" values. It is marginally faster than zero array but on the other hand, it requires the user to manually set all the values in the array, thus should be used with caution.*"
   ]
  },
  {
   "cell_type": "markdown",
   "metadata": {},
   "source": [
    "### Data Types for *ndarrays*\n",
    "\n",
    "`dtypes` are a source of NumPy's flexibility for interacting with data coming from other systems. They facilitate the ndarray to interpret a chunk of memory as a particular type of data. We can set the `dtype` when creating arrays like below:"
   ]
  },
  {
   "cell_type": "code",
   "execution_count": 7,
   "metadata": {},
   "outputs": [
    {
     "name": "stdout",
     "output_type": "stream",
     "text": [
      "float64\n",
      "int32\n"
     ]
    }
   ],
   "source": [
    "arr1 = np.array([1, 2, 3], dtype=np.float64)  # generate array to store float values\n",
    "arr2 = np.array([1, 2, 3], dtype=np.int32)    # generate array to store integer values\n",
    "\n",
    "print(arr1.dtype)\n",
    "print(arr2.dtype)"
   ]
  },
  {
   "cell_type": "markdown",
   "metadata": {},
   "source": [
    "In most cases, *dtypes* provide a mapping directly onto an underlying disk or memory representation, which makes it easy to read and write binary streams of data to disk and also to connect to code written in a low-level language like C or Fortran. A standard double-precision floating-point value takes up 8 or 64 bits. Thus, this type is know in Numpy as `float64`. Below is the full listing of NumPy's supported data types:\n",
    "\n",
    "**Type** | **Type code** | **Description**\n",
    "--- | --- | ---\n",
    "int8, uint8 | i1, u1 | Signed and unsigned 8-bit (1 byte) integer types\n",
    "int16, uint16 | i2, u2 | Signed and unsigned 16-bit integer types\n",
    "int32, uint32 | i4, u4 | Signed and unsigned 32-bit integer types\n",
    "int64, uint64 | i8, u8 | Signed and unsigned 64-bit integer types\n",
    "--- | --- | ---\n",
    "float16 | f2 | Half-precision floating point\n",
    "float32 | f4 or f | Standard single-precision floating point; compatible with C float\n",
    "float64 | f8 or d | Standard double-precision floating point; compatible with C double and Python float object\n",
    "float128 | f16 or g | Extended-precision floating point\n",
    "--- | --- | ---\n",
    "complex64 | c8 | Complex numbers represented by two 32 floats \n",
    "complex128 | c16 | Complex numbers represented by two 64 floats \n",
    "complex256 | c32 | Complex numbers represented by two 128 floats \n",
    "--- | --- | ---\n",
    "bool | ? | Boolean type storing `True` and `False` values\n",
    "object | O | Python object type; a value can be any Python object\n",
    "string_ | S | Fixed-length ASCII type (1 byte per character)\n",
    "unicode_ | U | Fixed-length Unicode type (number of bytes platform specific)\n"
   ]
  },
  {
   "cell_type": "markdown",
   "metadata": {},
   "source": [
    "You can explicitly convert or cast an array from one dtype to another, using `astype` method:"
   ]
  },
  {
   "cell_type": "code",
   "execution_count": 8,
   "metadata": {},
   "outputs": [
    {
     "data": {
      "text/plain": [
       "array([ 3, -1, -2,  0, 12, 10], dtype=int32)"
      ]
     },
     "execution_count": 8,
     "metadata": {},
     "output_type": "execute_result"
    }
   ],
   "source": [
    "arr = np.array([1, 2, 3, 4, 5])\n",
    "arr.dtype   # dtype('int64')\n",
    "\n",
    "float_arr = arr.astype(np.float64)  # cast array to float64 type\n",
    "\n",
    "float_arr.dtype  # dtype('float64')\n",
    "\n",
    "\n",
    "## casting from float to integer will truncate decimal part of values\n",
    "arr = np.array([3.7, -1.2, -2.6, 0.5, 12.9, 10.1])\n",
    "arr.dtype  # dtype('float64')\n",
    "\n",
    "arr.astype(np.int32)  # array([3, -1, -2, 0, 12, 10])"
   ]
  },
  {
   "cell_type": "markdown",
   "metadata": {},
   "source": [
    "**Note**: *Calling `astype` always create a new array(a copy of the data).*"
   ]
  },
  {
   "cell_type": "markdown",
   "metadata": {},
   "source": [
    "## Basic Indexing and Slicing\n",
    "\n",
    "Like Python lists, NumPy arrays also support indexing and slicing. For example:"
   ]
  },
  {
   "cell_type": "code",
   "execution_count": 9,
   "metadata": {},
   "outputs": [
    {
     "name": "stdout",
     "output_type": "stream",
     "text": [
      "5\n",
      "[5 6 7]\n",
      "[12 12 12]\n"
     ]
    }
   ],
   "source": [
    "arr = np.arange(10) # array([0, 1, 2, 3, 4, 5, 6, 7, 8, 9])\n",
    "\n",
    "print(arr[5])  # retrieve 6th elem\n",
    "\n",
    "print(arr[5:8])  # retrieve 6th to 8th items in the array\n",
    "\n",
    "arr[5:8] = 12\n",
    "\n",
    "print(arr[5:8])"
   ]
  },
  {
   "cell_type": "markdown",
   "metadata": {},
   "source": [
    "Accessing two-dimensional array:"
   ]
  },
  {
   "cell_type": "code",
   "execution_count": 10,
   "metadata": {},
   "outputs": [
    {
     "name": "stdout",
     "output_type": "stream",
     "text": [
      "[7 8 9]\n",
      "3\n"
     ]
    }
   ],
   "source": [
    "arr2d = np.array([[1, 2, 3], [4, 5, 6], [7, 8, 9]])\n",
    "print(arr2d[2])  # [7, 8, 9]\n",
    "\n",
    "print(arr2d[0, 2]) # 3"
   ]
  },
  {
   "cell_type": "markdown",
   "metadata": {},
   "source": [
    "**Note:** Unlike a Python list, array slices are *view* on the original array. Thus any value modifications done to the slice will be reflected in the source array."
   ]
  },
  {
   "cell_type": "code",
   "execution_count": 11,
   "metadata": {},
   "outputs": [
    {
     "name": "stdout",
     "output_type": "stream",
     "text": [
      "[   12 12345    12]\n",
      "[    0     1     2     3     4    12 12345    12     8     9]\n",
      "[    0     1     2     3     4 12345 12345 12345     8     9]\n"
     ]
    }
   ],
   "source": [
    "arr_slice = arr[5:8]  # obtain slice of 6th to 8th elements from array\n",
    "arr_slice[1] = 12345  # modify 1st item in slice\n",
    "\n",
    "print(arr_slice)\n",
    "\n",
    "# changes in slice is reflected in the original array\n",
    "print(arr)\n",
    "\n",
    "\n",
    "# this assigns to all values in an array\n",
    "arr_slice[:] = 12345\n",
    "\n",
    "print(arr)"
   ]
  },
  {
   "cell_type": "markdown",
   "metadata": {},
   "source": [
    "To prevent modifying the original array while working on array slices, you can use `copy()` method when slicing:"
   ]
  },
  {
   "cell_type": "code",
   "execution_count": 12,
   "metadata": {},
   "outputs": [
    {
     "name": "stdout",
     "output_type": "stream",
     "text": [
      "[[[42 42 42]\n",
      "  [42 42 42]]\n",
      "\n",
      " [[ 7  8  9]\n",
      "  [10 11 12]]]\n",
      "\n",
      "\n",
      "[[[ 1  2  3]\n",
      "  [ 4  5  6]]\n",
      "\n",
      " [[ 7  8  9]\n",
      "  [10 11 12]]]\n"
     ]
    }
   ],
   "source": [
    "arr3d = np.array([[[1, 2, 3], [4, 5, 6]], [[7, 8, 9], [10, 11, 12]]])\n",
    "\n",
    "old_values = arr3d[0].copy()  # copy out the slice instead of getting just the \"view\"\n",
    "\n",
    "arr3d[0] = 42  # set values of first vector in the first dimension in the array to 42\n",
    "\n",
    "print(arr3d)\n",
    "print(\"\\n\")\n",
    "\n",
    "arr3d[0] = old_values  # reset back to old values\n",
    "\n",
    "print(arr3d)"
   ]
  },
  {
   "cell_type": "markdown",
   "metadata": {},
   "source": [
    "Illustration of two-dimensional array slicing:\n",
    "\n",
    "<img src=\"https://www.oreilly.com/library/view/python-for-data/9781449323592/httpatomoreillycomsourceoreillyimages2172114.png\" width=\"300\" />"
   ]
  },
  {
   "cell_type": "markdown",
   "metadata": {},
   "source": [
    "### Boolean Indexing\n",
    "\n",
    "Instead of numerical indexing, we can also use boolean indexing to select data from array in the examples below:"
   ]
  },
  {
   "cell_type": "code",
   "execution_count": 13,
   "metadata": {},
   "outputs": [
    {
     "name": "stdout",
     "output_type": "stream",
     "text": [
      "[[ 1.09595972  0.50000669  1.13757883  0.54873631]\n",
      " [-1.13845582 -1.16917558  0.29964771  0.49302998]\n",
      " [-0.1481699  -1.51725929 -1.31274082  3.30047048]\n",
      " [ 1.18713882  1.01478501 -0.03537227  0.83756548]\n",
      " [ 0.22050457  0.30617262  0.10517716 -0.03672139]\n",
      " [ 0.18487822  0.43508342 -0.67223296  1.21307102]\n",
      " [-0.17124908  0.67307768 -0.4216332  -0.45292204]]\n",
      "\n",
      "\n",
      "[[ 1.09595972  0.50000669  1.13757883  0.54873631]\n",
      " [ 1.18713882  1.01478501 -0.03537227  0.83756548]]\n",
      "\n",
      "\n",
      "[[-1.13845582 -1.16917558  0.29964771  0.49302998]\n",
      " [-0.1481699  -1.51725929 -1.31274082  3.30047048]\n",
      " [ 0.22050457  0.30617262  0.10517716 -0.03672139]\n",
      " [ 0.18487822  0.43508342 -0.67223296  1.21307102]\n",
      " [-0.17124908  0.67307768 -0.4216332  -0.45292204]]\n",
      "\n",
      "[[-1.13845582 -1.16917558  0.29964771  0.49302998]\n",
      " [-0.1481699  -1.51725929 -1.31274082  3.30047048]\n",
      " [ 0.22050457  0.30617262  0.10517716 -0.03672139]\n",
      " [ 0.18487822  0.43508342 -0.67223296  1.21307102]\n",
      " [-0.17124908  0.67307768 -0.4216332  -0.45292204]]\n"
     ]
    }
   ],
   "source": [
    "# generate NumPy array from a list of names\n",
    "names = np.array(['Bob', 'Joe', 'Will', 'Bob', 'Will', 'Joe', 'Joe'])\n",
    "\n",
    "# generate random data array with number of rows corresponding to names.ndim (i.e. 7)\n",
    "data = np.random.randn(7, 4)\n",
    "print(data)\n",
    "print(\"\\n\")\n",
    "\n",
    "# return array of same shape comprising boolean result\n",
    "names == 'Bob'\n",
    "# array([ True, False, False,  True, False, False, False])\n",
    "\n",
    "\n",
    "# get array rows based on earlier condition result\n",
    "print(data[names == 'Bob'])\n",
    "print(\"\\n\")\n",
    "\n",
    "# return array rows based on false negatives of earlier condition result\n",
    "print(data[~(names == 'Bob')])\n",
    "print(\"\")\n",
    "\n",
    "# does the same as previous one\n",
    "print(data[names != 'Bob'])"
   ]
  },
  {
   "cell_type": "markdown",
   "metadata": {},
   "source": [
    "Combining multiple boolean conditions:"
   ]
  },
  {
   "cell_type": "code",
   "execution_count": 14,
   "metadata": {},
   "outputs": [
    {
     "name": "stdout",
     "output_type": "stream",
     "text": [
      "[[ 1.09595972  0.50000669  1.13757883  0.54873631]\n",
      " [-0.1481699  -1.51725929 -1.31274082  3.30047048]\n",
      " [ 1.18713882  1.01478501 -0.03537227  0.83756548]\n",
      " [ 0.22050457  0.30617262  0.10517716 -0.03672139]]\n",
      "\n",
      "\n"
     ]
    }
   ],
   "source": [
    "mask = (names == 'Bob') | (names == 'Will')  # get boolean results of either name is 'Bob' or 'Will' (in 1-d array)\n",
    "# array([ True, False,  True,  True,  True, False, False])\n",
    "\n",
    "# returns n-th row of data array corresponding to true values in 'mask' array \n",
    "print(data[mask])\n",
    "print(\"\\n\")"
   ]
  },
  {
   "cell_type": "code",
   "execution_count": 15,
   "metadata": {},
   "outputs": [
    {
     "name": "stdout",
     "output_type": "stream",
     "text": [
      "[[1.09595972 0.50000669 1.13757883 0.54873631]\n",
      " [0.         0.         0.29964771 0.49302998]\n",
      " [0.         0.         0.         3.30047048]\n",
      " [1.18713882 1.01478501 0.         0.83756548]\n",
      " [0.22050457 0.30617262 0.10517716 0.        ]\n",
      " [0.18487822 0.43508342 0.         1.21307102]\n",
      " [0.         0.67307768 0.         0.        ]]\n",
      "\n",
      "\n",
      "[[7.         7.         7.         7.        ]\n",
      " [0.         0.         0.29964771 0.49302998]\n",
      " [7.         7.         7.         7.        ]\n",
      " [7.         7.         7.         7.        ]\n",
      " [7.         7.         7.         7.        ]\n",
      " [0.18487822 0.43508342 0.         1.21307102]\n",
      " [0.         0.67307768 0.         0.        ]]\n"
     ]
    }
   ],
   "source": [
    "# setting values less than zero in the array to zero\n",
    "data[data < 0] = 0\n",
    "print(data)\n",
    "print(\"\\n\")\n",
    "\n",
    "# setting values (in rows corresponding to names not Joe) in the array to 7\n",
    "data[names != 'Joe'] = 7\n",
    "print(data)"
   ]
  },
  {
   "cell_type": "markdown",
   "metadata": {},
   "source": [
    "### Fancy Indexing\n",
    "\n",
    "Fancy Indexing refers to indexing using integer arrays:"
   ]
  },
  {
   "cell_type": "code",
   "execution_count": 16,
   "metadata": {},
   "outputs": [
    {
     "name": "stdout",
     "output_type": "stream",
     "text": [
      "[[ 0  1  2  3]\n",
      " [ 4  5  6  7]\n",
      " [ 8  9 10 11]\n",
      " [12 13 14 15]\n",
      " [16 17 18 19]\n",
      " [20 21 22 23]\n",
      " [24 25 26 27]\n",
      " [28 29 30 31]]\n",
      "\n",
      "\n",
      "[[16 17 18 19]\n",
      " [12 13 14 15]\n",
      " [ 0  1  2  3]\n",
      " [24 25 26 27]]\n",
      "\n",
      "\n",
      "19\n",
      "\n",
      "\n"
     ]
    }
   ],
   "source": [
    "arr = np.arange(32).reshape((8, 4))   # generate series of 0-31 numbers and shape them into 8x4 array\n",
    "print(arr)\n",
    "print(\"\\n\")\n",
    "\n",
    "## pass in [4, 3, 0, 6] as 1 argument\n",
    "# get 5th, 4th, 1st and 7th rows of arr\n",
    "print(arr[[4, 3, 0, 6]])\n",
    "print(\"\\n\")\n",
    "\n",
    "\n",
    "# contrast with below code (less 1 pair of square brackets, which returns item in 5th row, 4th column\n",
    "print(arr[4, 3])\n",
    "print(\"\\n\")"
   ]
  },
  {
   "cell_type": "markdown",
   "metadata": {},
   "source": [
    "In the 2nd example above, we pass `[4, 3, 0, 6]` as the first argument for array indexing, which in turn will return array slice comprising the 5th, 4th, 1st and 7th rows (recall indices starts from zero in Python instead of 1) in that order. In the 3rd example, we pass in `4` as first argument and `3` as the second argument to retrieve the element residing in 5th row, 4th column of the array. \n",
    "\n",
    "Also note that fancy indexing *always copies* the data into a new array, unlike slicing.\n",
    "\n",
    "More complex indexing examples below:"
   ]
  },
  {
   "cell_type": "code",
   "execution_count": 17,
   "metadata": {},
   "outputs": [
    {
     "name": "stdout",
     "output_type": "stream",
     "text": [
      "[16 15  1 26]\n",
      "\n",
      "\n",
      "[19 15  3 27]\n",
      "\n",
      "\n",
      "[[ 0  1  2  3]\n",
      " [ 4  5  6  7]\n",
      " [ 8  9 10 11]\n",
      " [12 13 14 15]\n",
      " [16 17 18 19]\n",
      " [20 21 22 23]\n",
      " [24 25 26 27]\n",
      " [28 29 30 31]]\n"
     ]
    }
   ],
   "source": [
    "# retrieve the 1st, 4th, 2nd and 3rd elements from respective rows in the earlier data subarray\n",
    "print(arr[[4, 3, 0, 6], [0, 3, 1, 2]])\n",
    "print(\"\\n\")\n",
    "\n",
    "# retrieve the 4th column from the subarray specified by first argument: [4, 3, 0, 6]\n",
    "print(arr[[4, 3, 0, 6], 3])\n",
    "print(\"\\n\")\n",
    "\n",
    "# modifying the values in array returned by fancy indexing doesn't impact the original values\n",
    "x = arr[[4, 3, 0, 6], 3]\n",
    "x[0] = 1\n",
    "print(arr)"
   ]
  },
  {
   "cell_type": "code",
   "execution_count": 18,
   "metadata": {},
   "outputs": [
    {
     "data": {
      "text/plain": [
       "array([ 1, 15,  3, 27])"
      ]
     },
     "execution_count": 18,
     "metadata": {},
     "output_type": "execute_result"
    }
   ],
   "source": [
    "x = arr[[4, 3, 0, 6], 3]\n",
    "x[0] = 1\n",
    "x"
   ]
  },
  {
   "cell_type": "code",
   "execution_count": 19,
   "metadata": {},
   "outputs": [
    {
     "data": {
      "text/plain": [
       "array([[ 0,  1,  2,  3],\n",
       "       [ 4,  5,  6,  7],\n",
       "       [ 8,  9, 10, 11],\n",
       "       [12, 13, 14, 15],\n",
       "       [16, 17, 18, 19],\n",
       "       [20, 21, 22, 23],\n",
       "       [24, 25, 26, 27],\n",
       "       [28, 29, 30, 31]])"
      ]
     },
     "execution_count": 19,
     "metadata": {},
     "output_type": "execute_result"
    }
   ],
   "source": [
    "arr"
   ]
  },
  {
   "cell_type": "markdown",
   "metadata": {},
   "source": [
    "## Transposing Array, Swapping Axes\n",
    "\n",
    "The transpose of a array returns a flipped view of the array over its diagonal, whereby the rows and columns are swapped. Transposing returns merely a *view* of the data thus modifying the returned transposed matrix will modify the original data. Arrays have the `transpose` method and also the special `T` attribute to facilitate the transpose operations:"
   ]
  },
  {
   "cell_type": "code",
   "execution_count": 20,
   "metadata": {},
   "outputs": [
    {
     "name": "stdout",
     "output_type": "stream",
     "text": [
      "[[ 0.46624185  0.92722317  0.49468564]\n",
      " [-0.10231055  0.36933909 -1.2322112 ]\n",
      " [ 0.43666433  2.03163861  0.16906176]\n",
      " [-0.41784855  2.12891666 -0.64521659]\n",
      " [-0.68300954  1.20378534  0.50264316]\n",
      " [ 0.00770007 -1.33609143 -2.19791557]]\n",
      "\n",
      "---transposed form---\n",
      "[[ 0.46624185 -0.10231055  0.43666433 -0.41784855 -0.68300954  0.00770007]\n",
      " [ 0.92722317  0.36933909  2.03163861  2.12891666  1.20378534 -1.33609143]\n",
      " [ 0.49468564 -1.2322112   0.16906176 -0.64521659  0.50264316 -2.19791557]]\n",
      "\n",
      "---another way to transpose---\n",
      "[[ 0.46624185 -0.10231055  0.43666433 -0.41784855 -0.68300954  0.00770007]\n",
      " [ 0.92722317  0.36933909  2.03163861  2.12891666  1.20378534 -1.33609143]\n",
      " [ 0.49468564 -1.2322112   0.16906176 -0.64521659  0.50264316 -2.19791557]]\n"
     ]
    }
   ],
   "source": [
    "# transpose matrix/array\n",
    "arr = np.random.randn(6, 3)\n",
    "print(arr)\n",
    "print(\"\\n---transposed form---\")\n",
    "print(arr.T)\n",
    "\n",
    "# this does the same\n",
    "print(\"\\n---another way to transpose---\")\n",
    "print(arr.transpose(1, 0))   # reorder 2nd (y-axis) with the 1st (x-axis)"
   ]
  },
  {
   "cell_type": "markdown",
   "metadata": {},
   "source": [
    "You can easily perform inner matrix product computations using `np.dot`:"
   ]
  },
  {
   "cell_type": "code",
   "execution_count": 21,
   "metadata": {},
   "outputs": [
    {
     "data": {
      "text/plain": [
       "array([[ 1.05968338, -0.44038254,  0.33990322],\n",
       "       [-0.44038254, 12.89023524,  2.5151309 ],\n",
       "       [ 0.33990322,  2.5151309 ,  7.29142764]])"
      ]
     },
     "execution_count": 21,
     "metadata": {},
     "output_type": "execute_result"
    }
   ],
   "source": [
    "# computation using np.dot\n",
    "np.dot(arr.T, arr)"
   ]
  },
  {
   "cell_type": "markdown",
   "metadata": {},
   "source": [
    "### More complex array swap/transpose\n",
    "\n",
    "For higher-dimensional arrays, you can use the `transpose` method that takes in a tuple of axes as an argument to permute the axes:"
   ]
  },
  {
   "cell_type": "code",
   "execution_count": 22,
   "metadata": {},
   "outputs": [
    {
     "name": "stdout",
     "output_type": "stream",
     "text": [
      "[[[ 0  1  2  3]\n",
      "  [ 4  5  6  7]]\n",
      "\n",
      " [[ 8  9 10 11]\n",
      "  [12 13 14 15]]]\n",
      "\n",
      "---1st axis, 1st item---\n",
      "[[0 1 2 3]\n",
      " [4 5 6 7]]\n",
      "\n",
      "---2nd axis, 1st item---\n",
      "[[ 0  1  2  3]\n",
      " [ 8  9 10 11]]\n",
      "\n",
      "---3rd axis, 1st item---\n",
      "[[ 0  4]\n",
      " [ 8 12]]\n",
      "\n",
      "\n",
      "[[[ 0  1  2  3]\n",
      "  [ 8  9 10 11]]\n",
      "\n",
      " [[ 4  5  6  7]\n",
      "  [12 13 14 15]]]\n"
     ]
    },
    {
     "data": {
      "text/plain": [
       "array([[[ 0,  1,  2,  3],\n",
       "        [ 8,  9, 10, 11]],\n",
       "\n",
       "       [[ 4,  5,  6,  7],\n",
       "        [12, 13, 14, 15]]])"
      ]
     },
     "execution_count": 22,
     "metadata": {},
     "output_type": "execute_result"
    }
   ],
   "source": [
    "arr = np.arange(16).reshape((2, 2, 4))  # reshape into a 3-dimensional array\n",
    "print(arr)\n",
    "\n",
    "print(\"\\n---1st axis, 1st item---\")\n",
    "print(arr[0])\n",
    "\n",
    "print(\"\\n---2nd axis, 1st item---\")\n",
    "print(arr[:,0])\n",
    "\n",
    "print(\"\\n---3rd axis, 1st item---\")\n",
    "print(arr[:,:,0])\n",
    "print(\"\\n\")\n",
    "\n",
    "# reorder axis: swap 2nd axis with the 1st\n",
    "print(arr.transpose((1, 0, 2)))\n",
    "\n",
    "# this does the same thing\n",
    "arr.swapaxes(1, 0)"
   ]
  },
  {
   "cell_type": "markdown",
   "metadata": {},
   "source": [
    "In the above example, the `swapaxes` method takes a pair of axis numbers and switches the indicated axes to rearrange the data:"
   ]
  },
  {
   "cell_type": "code",
   "execution_count": null,
   "metadata": {},
   "outputs": [],
   "source": []
  }
 ],
 "metadata": {
  "kernelspec": {
   "display_name": "Python 3",
   "language": "python",
   "name": "python3"
  },
  "language_info": {
   "codemirror_mode": {
    "name": "ipython",
    "version": 3
   },
   "file_extension": ".py",
   "mimetype": "text/x-python",
   "name": "python",
   "nbconvert_exporter": "python",
   "pygments_lexer": "ipython3",
   "version": "3.7.6"
  }
 },
 "nbformat": 4,
 "nbformat_minor": 4
}
