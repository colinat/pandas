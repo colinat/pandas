{
 "cells": [
  {
   "cell_type": "markdown",
   "metadata": {},
   "source": [
    "# NumPy Basics\n",
    "\n",
    "NumPy - short for numerical Python - is an essential foundational packages for numerical computing in Python. One of Numpy's primary use in data analysis applications is as a container for data to be passed between algorithms and libraries. NumPy is more efficient for storing and manipulating data than the other built-in Python data structures is because it is designed for efficiency on large arrays of data. Reasons for this are:\n",
    "\n",
    "+ NumPy internally stores data in a contigious block of memory, independent of other built-in Python objects. It operate on this memory without any type checking or other overhead. NumPy also uses much less memory than other built-in Python sequences.\n",
    "+ NumPy operations perform complex computations on entire arrays without the need for Python `for` loops.\n",
    "\n",
    "Examples below illustrate the performance difference between computations on a NumPy array and a Python list:"
   ]
  },
  {
   "cell_type": "code",
   "execution_count": 1,
   "metadata": {},
   "outputs": [
    {
     "name": "stdout",
     "output_type": "stream",
     "text": [
      "CPU times: user 11.8 ms, sys: 3.62 ms, total: 15.4 ms\n",
      "Wall time: 15.4 ms\n",
      "CPU times: user 369 ms, sys: 54.4 ms, total: 424 ms\n",
      "Wall time: 423 ms\n"
     ]
    }
   ],
   "source": [
    "import numpy as np\n",
    "\n",
    "my_arr = np.arange(1_000_000)    # numpy array\n",
    "my_list = list(range(1_000_000)) # Python list\n",
    "\n",
    "# compute and display processing time for comparison\n",
    "%time for _ in range(10): my_arr2 = my_arr*2\n",
    "# time < 20 ms\n",
    "    \n",
    "%time for _ in range(10): my_list2 = [x * 2 for x in my_list]\n",
    "# time 400+ ms"
   ]
  },
  {
   "cell_type": "markdown",
   "metadata": {},
   "source": [
    "## The NumPy *ndarray*\n",
    "\n",
    "A key features of NumPy is its N-dimensional array object, or *ndarray* - a fast, flexible container for large datasets in Python. Arrays enable you to perform mathematical operations on whole blocks of data using similar syntax equivalent operations between scalar elements. Below are some examples of computations on NumPy arrays:"
   ]
  },
  {
   "cell_type": "code",
   "execution_count": 2,
   "metadata": {},
   "outputs": [
    {
     "name": "stdout",
     "output_type": "stream",
     "text": [
      "[[ 0.07390336 -0.34478298  0.11112559]\n",
      " [ 2.34321772 -1.38892558 -1.27904173]]\n",
      "\n"
     ]
    },
    {
     "data": {
      "text/plain": [
       "array([[ 0.14780673, -0.68956596,  0.22225118],\n",
       "       [ 4.68643545, -2.77785117, -2.55808347]])"
      ]
     },
     "execution_count": 2,
     "metadata": {},
     "output_type": "execute_result"
    }
   ],
   "source": [
    "data = np.random.randn(2,3) # generate 2x3 array of random numbers\n",
    "print(data)\n",
    "print(\"\")\n",
    "\n",
    "# multiply all elements by 10 in the array\n",
    "data * 10\n",
    "\n",
    "# add each array element by itself, i.e. double the elements\n",
    "data + data"
   ]
  },
  {
   "cell_type": "markdown",
   "metadata": {},
   "source": [
    "### Creating *ndarrays*\n",
    "\n",
    "Use the `array` function from the `numpy` class to create an array. For example:"
   ]
  },
  {
   "cell_type": "code",
   "execution_count": 3,
   "metadata": {},
   "outputs": [
    {
     "name": "stdout",
     "output_type": "stream",
     "text": [
      "[6, 7.5, 8, 0, 1]\n",
      "[6.  7.5 8.  0.  1. ]\n",
      "[[1, 2, 3, 4], [5, 6, 7, 8]]\n",
      "[[1 2 3 4]\n",
      " [5 6 7 8]]\n"
     ]
    }
   ],
   "source": [
    "data1 = [6, 7.5, 8, 0, 1]  # a list of numbers\n",
    "print(data1)\n",
    "\n",
    "arr1 = np.array(data1) # convert a list to numpy array\n",
    "print(arr1)\n",
    "\n",
    "data2 = [[1, 2, 3, 4], [5, 6, 7, 8]]  # a nested list comprising list of numbers\n",
    "print(data2)\n",
    "\n",
    "arr2 = np.array(data2) # convert nested lists to numpy array\n",
    "print(arr2)"
   ]
  },
  {
   "cell_type": "markdown",
   "metadata": {},
   "source": [
    "Inspecting dimensions of arrays:"
   ]
  },
  {
   "cell_type": "code",
   "execution_count": 4,
   "metadata": {},
   "outputs": [
    {
     "name": "stdout",
     "output_type": "stream",
     "text": [
      "2\n",
      "(2, 4)\n"
     ]
    }
   ],
   "source": [
    "# get n dimensions (i.e. rows)\n",
    "print(arr2.ndim)\n",
    "# 2\n",
    "\n",
    "# get n rows and m columns\n",
    "print(arr2.shape)\n",
    "# (2, 4)"
   ]
  },
  {
   "cell_type": "markdown",
   "metadata": {},
   "source": [
    "In addition to `np.array`, there are other ways for creating new arrays. As examples, zeros and ones create arrays of 0s and 1s, respectively, with a given length or shape. `empty` creates an array without initialising its values to any particular value. To create higher dimensional array with these methods, pass a tuple for the shape:"
   ]
  },
  {
   "cell_type": "code",
   "execution_count": 5,
   "metadata": {},
   "outputs": [
    {
     "name": "stdout",
     "output_type": "stream",
     "text": [
      "[0. 0. 0. 0. 0. 0. 0. 0. 0. 0.]\n",
      "\n",
      "[[0. 0. 0. 0. 0. 0.]\n",
      " [0. 0. 0. 0. 0. 0.]\n",
      " [0. 0. 0. 0. 0. 0.]]\n",
      "\n",
      "[[[4.66868025e-310 0.00000000e+000]\n",
      "  [0.00000000e+000 0.00000000e+000]\n",
      "  [0.00000000e+000 0.00000000e+000]]\n",
      "\n",
      " [[0.00000000e+000 0.00000000e+000]\n",
      "  [0.00000000e+000 0.00000000e+000]\n",
      "  [0.00000000e+000 0.00000000e+000]]]\n"
     ]
    }
   ],
   "source": [
    "# create array of 10 zeroes\n",
    "x = np.zeros(10)\n",
    "print(f\"{x}\\n\")\n",
    "\n",
    "# create 3x6 array of zeroes\n",
    "x = np.zeros((3, 6))\n",
    "print(f\"{x}\\n\")\n",
    "\n",
    "# create empty array of 2x3x2\n",
    "x = np.empty((2, 3, 2))\n",
    "print(f\"{x}\")"
   ]
  },
  {
   "cell_type": "markdown",
   "metadata": {},
   "source": [
    "**Note**: *`np.empty` does not set array values to zeroes; it may return uninitialised \"garbage\" values. It is marginally faster than zero array but on the other hand, it requires the user to manually set all the values in the array, thus should be used with caution.*"
   ]
  },
  {
   "cell_type": "markdown",
   "metadata": {},
   "source": [
    "### Data Types for *ndarrays*\n",
    "\n",
    "`dtypes` are a source of NumPy's flexibility for interacting with data coming from other systems. They facilitate the ndarray to interpret a chunk of memory as a particular type of data. The `numpy.array()` arrays will attempt to infer an appropriate data type for the array created. "
   ]
  },
  {
   "cell_type": "code",
   "execution_count": 6,
   "metadata": {},
   "outputs": [
    {
     "name": "stdout",
     "output_type": "stream",
     "text": [
      "float64\n",
      "int64\n"
     ]
    }
   ],
   "source": [
    "print(arr1.dtype)  # float64\n",
    "print(arr2.dtype)  # int64"
   ]
  },
  {
   "cell_type": "markdown",
   "metadata": {},
   "source": [
    "We can set the `dtype` when creating arrays like below:"
   ]
  },
  {
   "cell_type": "code",
   "execution_count": 7,
   "metadata": {},
   "outputs": [
    {
     "name": "stdout",
     "output_type": "stream",
     "text": [
      "float64\n",
      "int32\n"
     ]
    }
   ],
   "source": [
    "arr1 = np.array([1, 2, 3], dtype=np.float64)  # generate array to store float values\n",
    "arr2 = np.array([1, 2, 3], dtype=np.int32)    # generate array to store integer values\n",
    "\n",
    "print(arr1.dtype)\n",
    "print(arr2.dtype)"
   ]
  },
  {
   "cell_type": "markdown",
   "metadata": {},
   "source": [
    "In most cases, *dtypes* provide a mapping directly onto an underlying disk or memory representation, which makes it easy to read and write binary streams of data to disk and also to connect to code written in a low-level language like C or Fortran. A standard double-precision floating-point value takes up 8 or 64 bits. Thus, this type is know in Numpy as `float64`. Below is the full listing of NumPy's supported data types:\n",
    "\n",
    "**Type** | **Type code** | **Description**\n",
    "--- | --- | ---\n",
    "int8, uint8 | i1, u1 | Signed and unsigned 8-bit (1 byte) integer types\n",
    "int16, uint16 | i2, u2 | Signed and unsigned 16-bit integer types\n",
    "int32, uint32 | i4, u4 | Signed and unsigned 32-bit integer types\n",
    "int64, uint64 | i8, u8 | Signed and unsigned 64-bit integer types\n",
    "--- | --- | ---\n",
    "float16 | f2 | Half-precision floating point\n",
    "float32 | f4 or f | Standard single-precision floating point; compatible with C float\n",
    "float64 | f8 or d | Standard double-precision floating point; compatible with C double and Python float object\n",
    "float128 | f16 or g | Extended-precision floating point\n",
    "--- | --- | ---\n",
    "complex64 | c8 | Complex numbers represented by two 32 floats \n",
    "complex128 | c16 | Complex numbers represented by two 64 floats \n",
    "complex256 | c32 | Complex numbers represented by two 128 floats \n",
    "--- | --- | ---\n",
    "bool | ? | Boolean type storing `True` and `False` values\n",
    "object | O | Python object type; a value can be any Python object\n",
    "string_ | S | Fixed-length ASCII type (1 byte per character)\n",
    "unicode_ | U | Fixed-length Unicode type (number of bytes platform specific)\n"
   ]
  },
  {
   "cell_type": "markdown",
   "metadata": {},
   "source": [
    "You can explicitly convert or cast an array from one dtype to another, using `astype` method:"
   ]
  },
  {
   "cell_type": "code",
   "execution_count": 8,
   "metadata": {},
   "outputs": [
    {
     "data": {
      "text/plain": [
       "array([ 3, -1, -2,  0, 12, 10], dtype=int32)"
      ]
     },
     "execution_count": 8,
     "metadata": {},
     "output_type": "execute_result"
    }
   ],
   "source": [
    "arr = np.array([1, 2, 3, 4, 5])\n",
    "arr.dtype   \n",
    "# dtype('int64')\n",
    "\n",
    "# cast array to float64 type\n",
    "float_arr = arr.astype(np.float64)  \n",
    "\n",
    "float_arr.dtype  \n",
    "# dtype('float64')\n",
    "\n",
    "\n",
    "# casting from float to integer will truncate decimal part of values\n",
    "arr = np.array([3.7, -1.2, -2.6, 0.5, 12.9, 10.1])\n",
    "arr.dtype  \n",
    "# dtype('float64')\n",
    "\n",
    "arr.astype(np.int32)  \n",
    "# array([3, -1, -2, 0, 12, 10])"
   ]
  },
  {
   "cell_type": "markdown",
   "metadata": {},
   "source": [
    "**Note**: *Calling `astype` always create a new array(a copy of the data).*"
   ]
  },
  {
   "cell_type": "markdown",
   "metadata": {},
   "source": [
    "## Basic Indexing and Slicing\n",
    "\n",
    "Like Python lists, NumPy arrays also support indexing and slicing. For example:"
   ]
  },
  {
   "cell_type": "code",
   "execution_count": 9,
   "metadata": {},
   "outputs": [
    {
     "name": "stdout",
     "output_type": "stream",
     "text": [
      "5\n",
      "[5 6 7]\n",
      "[12 12 12]\n"
     ]
    }
   ],
   "source": [
    "arr = np.arange(10) # array([0, 1, 2, 3, 4, 5, 6, 7, 8, 9])\n",
    "\n",
    "print(arr[5])  # retrieve 6th elem\n",
    "\n",
    "print(arr[5:8])  # retrieve 6th to 8th items in the array\n",
    "\n",
    "arr[5:8] = 12\n",
    "\n",
    "print(arr[5:8])"
   ]
  },
  {
   "cell_type": "markdown",
   "metadata": {},
   "source": [
    "Accessing two-dimensional array:"
   ]
  },
  {
   "cell_type": "code",
   "execution_count": 10,
   "metadata": {},
   "outputs": [
    {
     "data": {
      "text/plain": [
       "3"
      ]
     },
     "execution_count": 10,
     "metadata": {},
     "output_type": "execute_result"
    }
   ],
   "source": [
    "arr2d = np.array([[1, 2, 3], [4, 5, 6], [7, 8, 9]])\n",
    "arr2d[2]\n",
    "# [7, 8, 9]\n",
    "\n",
    "arr2d[0, 2]\n",
    "# 3"
   ]
  },
  {
   "cell_type": "markdown",
   "metadata": {},
   "source": [
    "**Note:** Unlike a Python list, array slices are *view* on the original array. Thus any value modifications done to the slice will be reflected in the source array."
   ]
  },
  {
   "cell_type": "code",
   "execution_count": 11,
   "metadata": {},
   "outputs": [
    {
     "name": "stdout",
     "output_type": "stream",
     "text": [
      "[   12 12345    12]\n",
      "[    0     1     2     3     4    12 12345    12     8     9]\n",
      "[    0     1     2     3     4 12345 12345 12345     8     9]\n"
     ]
    }
   ],
   "source": [
    "arr_slice = arr[5:8]  # obtain slice of 6th to 8th elements from array\n",
    "arr_slice[1] = 12345  # modify 1st item in slice\n",
    "\n",
    "print(arr_slice)\n",
    "\n",
    "# changes in slice is reflected in the original array\n",
    "print(arr)\n",
    "\n",
    "\n",
    "# this assigns to all values in an array\n",
    "arr_slice[:] = 12345\n",
    "\n",
    "print(arr)"
   ]
  },
  {
   "cell_type": "markdown",
   "metadata": {},
   "source": [
    "To prevent modifying the original array while working on array slices, you can use `copy()` method when slicing:"
   ]
  },
  {
   "cell_type": "code",
   "execution_count": 12,
   "metadata": {},
   "outputs": [
    {
     "name": "stdout",
     "output_type": "stream",
     "text": [
      "[[[42 42 42]\n",
      "  [42 42 42]]\n",
      "\n",
      " [[ 7  8  9]\n",
      "  [10 11 12]]]\n",
      "[[[ 1  2  3]\n",
      "  [ 4  5  6]]\n",
      "\n",
      " [[ 7  8  9]\n",
      "  [10 11 12]]]\n"
     ]
    }
   ],
   "source": [
    "arr3d = np.array([[[1, 2, 3], [4, 5, 6]], [[7, 8, 9], [10, 11, 12]]])\n",
    "\n",
    "# copy out the slice instead of getting just the \"view\"\n",
    "old_values = arr3d[0].copy()  \n",
    "\n",
    "# set values of first vector in the first dimension in the array to 42\n",
    "arr3d[0] = 42  \n",
    "print(arr3d)\n",
    "\n",
    "# reset back to old values\n",
    "arr3d[0] = old_values  \n",
    "print(arr3d)"
   ]
  },
  {
   "cell_type": "markdown",
   "metadata": {},
   "source": [
    "Illustration of two-dimensional array slicing:\n",
    "\n",
    "<img src=\"https://www.oreilly.com/library/view/python-for-data/9781449323592/httpatomoreillycomsourceoreillyimages2172114.png\" width=\"300\" />"
   ]
  },
  {
   "cell_type": "markdown",
   "metadata": {},
   "source": [
    "### Boolean Indexing\n",
    "\n",
    "Instead of numerical indexing, we can also use boolean indexing to select data from array in the examples below:"
   ]
  },
  {
   "cell_type": "code",
   "execution_count": 13,
   "metadata": {},
   "outputs": [
    {
     "name": "stdout",
     "output_type": "stream",
     "text": [
      "[[ 0.80302169  0.8220963   0.25215869  1.34607905]\n",
      " [ 1.61088385 -0.36353469  0.06768078 -1.3080823 ]\n",
      " [ 0.65520616  1.24507517  0.54950267 -1.19989585]\n",
      " [-0.34729065  0.42589081  0.61766175  0.06964881]\n",
      " [-0.76242251  0.19231361 -1.44300562 -0.87409973]\n",
      " [ 0.1653121   1.23702947  0.78325728  0.3274351 ]\n",
      " [-1.0742759  -0.18754959 -1.00980082 -0.41422362]]\n",
      "\n",
      "\n",
      "[[ 0.80302169  0.8220963   0.25215869  1.34607905]\n",
      " [-0.34729065  0.42589081  0.61766175  0.06964881]]\n",
      "\n",
      "[[ 1.61088385 -0.36353469  0.06768078 -1.3080823 ]\n",
      " [ 0.65520616  1.24507517  0.54950267 -1.19989585]\n",
      " [-0.76242251  0.19231361 -1.44300562 -0.87409973]\n",
      " [ 0.1653121   1.23702947  0.78325728  0.3274351 ]\n",
      " [-1.0742759  -0.18754959 -1.00980082 -0.41422362]]\n",
      "\n",
      "[[ 1.61088385 -0.36353469  0.06768078 -1.3080823 ]\n",
      " [ 0.65520616  1.24507517  0.54950267 -1.19989585]\n",
      " [-0.76242251  0.19231361 -1.44300562 -0.87409973]\n",
      " [ 0.1653121   1.23702947  0.78325728  0.3274351 ]\n",
      " [-1.0742759  -0.18754959 -1.00980082 -0.41422362]]\n",
      "\n"
     ]
    }
   ],
   "source": [
    "# generate NumPy array from a list of names\n",
    "names = np.array(['Bob', 'Joe', 'Will', 'Bob', 'Will', 'Joe', 'Joe'])\n",
    "\n",
    "# generate random data array with number of rows corresponding to names.ndim (i.e. 7)\n",
    "data = np.random.randn(7, 4)\n",
    "print(data)\n",
    "print(\"\\n\")\n",
    "\n",
    "# return array of same shape comprising boolean result\n",
    "names == 'Bob'\n",
    "# array([ True, False, False,  True, False, False, False])\n",
    "\n",
    "\n",
    "# get array rows based on earlier condition result\n",
    "x = data[names == 'Bob']\n",
    "print(f\"{x}\\n\")\n",
    "\n",
    "# return array rows based on false negatives of earlier condition result\n",
    "x = data[~(names == 'Bob')]\n",
    "print(f\"{x}\\n\")\n",
    "\n",
    "# does the same as previous one\n",
    "x = data[names != 'Bob']\n",
    "print(f\"{x}\\n\")"
   ]
  },
  {
   "cell_type": "markdown",
   "metadata": {},
   "source": [
    "Combining multiple boolean conditions:"
   ]
  },
  {
   "cell_type": "code",
   "execution_count": 14,
   "metadata": {},
   "outputs": [
    {
     "data": {
      "text/plain": [
       "array([[ 0.80302169,  0.8220963 ,  0.25215869,  1.34607905],\n",
       "       [ 0.65520616,  1.24507517,  0.54950267, -1.19989585],\n",
       "       [-0.34729065,  0.42589081,  0.61766175,  0.06964881],\n",
       "       [-0.76242251,  0.19231361, -1.44300562, -0.87409973]])"
      ]
     },
     "execution_count": 14,
     "metadata": {},
     "output_type": "execute_result"
    }
   ],
   "source": [
    "mask = (names == 'Bob') | (names == 'Will')  # get boolean results of either name is 'Bob' or 'Will' (in 1-d array)\n",
    "# array([ True, False,  True,  True,  True, False, False])\n",
    "\n",
    "# returns n-th row of data array corresponding to true values in 'mask' array \n",
    "data[mask]"
   ]
  },
  {
   "cell_type": "code",
   "execution_count": 15,
   "metadata": {},
   "outputs": [
    {
     "name": "stdout",
     "output_type": "stream",
     "text": [
      "[[0.80302169 0.8220963  0.25215869 1.34607905]\n",
      " [1.61088385 0.         0.06768078 0.        ]\n",
      " [0.65520616 1.24507517 0.54950267 0.        ]\n",
      " [0.         0.42589081 0.61766175 0.06964881]\n",
      " [0.         0.19231361 0.         0.        ]\n",
      " [0.1653121  1.23702947 0.78325728 0.3274351 ]\n",
      " [0.         0.         0.         0.        ]]\n",
      "\n",
      "[[7.         7.         7.         7.        ]\n",
      " [1.61088385 0.         0.06768078 0.        ]\n",
      " [7.         7.         7.         7.        ]\n",
      " [7.         7.         7.         7.        ]\n",
      " [7.         7.         7.         7.        ]\n",
      " [0.1653121  1.23702947 0.78325728 0.3274351 ]\n",
      " [0.         0.         0.         0.        ]]\n"
     ]
    }
   ],
   "source": [
    "# setting values less than zero in the array to zero\n",
    "data[data < 0] = 0\n",
    "print(f\"{data}\\n\")\n",
    "\n",
    "# setting values (in rows corresponding to names not Joe) in the array to 7\n",
    "data[names != 'Joe'] = 7\n",
    "print(data)"
   ]
  },
  {
   "cell_type": "markdown",
   "metadata": {},
   "source": [
    "### Fancy Indexing\n",
    "\n",
    "Fancy Indexing refers to indexing using integer arrays:"
   ]
  },
  {
   "cell_type": "code",
   "execution_count": 16,
   "metadata": {},
   "outputs": [
    {
     "name": "stdout",
     "output_type": "stream",
     "text": [
      "[[ 0  1  2  3]\n",
      " [ 4  5  6  7]\n",
      " [ 8  9 10 11]\n",
      " [12 13 14 15]\n",
      " [16 17 18 19]\n",
      " [20 21 22 23]\n",
      " [24 25 26 27]\n",
      " [28 29 30 31]]\n",
      "\n",
      "[[16 17 18 19]\n",
      " [12 13 14 15]\n",
      " [ 0  1  2  3]\n",
      " [24 25 26 27]]\n",
      "\n",
      "19\n",
      "\n"
     ]
    }
   ],
   "source": [
    "arr = np.arange(32).reshape((8, 4))   # generate series of 0-31 numbers and shape them into 8x4 array\n",
    "print(f\"{arr}\\n\")\n",
    "\n",
    "## pass in [4, 3, 0, 6] as 1 argument\n",
    "# get 5th, 4th, 1st and 7th rows of arr\n",
    "x = arr[[4, 3, 0, 6]]\n",
    "print(f\"{x}\\n\")\n",
    "\n",
    "# contrast with below code (less 1 pair of square brackets, which returns item in 5th row, 4th column\n",
    "x = arr[4, 3]\n",
    "print(f\"{x}\\n\")"
   ]
  },
  {
   "cell_type": "markdown",
   "metadata": {},
   "source": [
    "In the 2nd example above, we pass `[4, 3, 0, 6]` as the first argument for array indexing, which in turn will return array slice comprising the 5th, 4th, 1st and 7th rows (recall indices starts from zero in Python instead of 1) in that order. In the 3rd example, we pass in `4` as first argument and `3` as the second argument to retrieve the element residing in 5th row, 4th column of the array. \n",
    "\n",
    "Also note that fancy indexing *always copies* the data into a new array, unlike slicing.\n",
    "\n",
    "More complex indexing examples below:"
   ]
  },
  {
   "cell_type": "code",
   "execution_count": 17,
   "metadata": {},
   "outputs": [
    {
     "name": "stdout",
     "output_type": "stream",
     "text": [
      "[16 15  1 26]\n",
      "\n",
      "[19 15  3 27]\n",
      "\n",
      "[[ 0  1  2  3]\n",
      " [ 4  5  6  7]\n",
      " [ 8  9 10 11]\n",
      " [12 13 14 15]\n",
      " [16 17 18 19]\n",
      " [20 21 22 23]\n",
      " [24 25 26 27]\n",
      " [28 29 30 31]]\n"
     ]
    }
   ],
   "source": [
    "# retrieve the 1st, 4th, 2nd and 3rd elements from respective rows in the earlier data subarray\n",
    "x = arr[[4, 3, 0, 6], [0, 3, 1, 2]]\n",
    "print(f\"{x}\\n\")\n",
    "\n",
    "# retrieve the 4th column from the subarray specified by first argument: [4, 3, 0, 6]\n",
    "x = arr[[4, 3, 0, 6], 3]\n",
    "print(f\"{x}\\n\")\n",
    "\n",
    "# modifying the values in array returned by fancy indexing doesn't impact the original values\n",
    "x = arr[[4, 3, 0, 6], 3]\n",
    "x[0] = 1\n",
    "print(arr)"
   ]
  },
  {
   "cell_type": "markdown",
   "metadata": {},
   "source": [
    "## Transposing Array, Swapping Axes\n",
    "\n",
    "The transpose of a array returns a flipped view of the array over its diagonal, whereby the rows and columns are swapped. Transposing returns merely a *view* of the data thus modifying the returned transposed matrix will modify the original data. Arrays have the `transpose` method and also the special `T` attribute to facilitate the transpose operations:"
   ]
  },
  {
   "cell_type": "code",
   "execution_count": 18,
   "metadata": {},
   "outputs": [
    {
     "name": "stdout",
     "output_type": "stream",
     "text": [
      "[[ 1.04702965e+00  1.31531103e+00  4.46790969e-02]\n",
      " [ 1.55020713e+00 -1.41248738e+00  1.10605763e+00]\n",
      " [-1.84217169e+00 -1.03036361e-01  8.31048399e-01]\n",
      " [-7.87183242e-04 -7.10269682e-03  8.46383428e-01]\n",
      " [ 6.17143990e-01 -5.80741372e-01  1.92924986e+00]\n",
      " [ 5.93229913e-01  5.36056621e-01  2.23776616e-01]]\n",
      "\n",
      "---transposed form---\n",
      "[[ 1.04702965e+00  1.55020713e+00 -1.84217169e+00 -7.87183242e-04\n",
      "   6.17143990e-01  5.93229913e-01]\n",
      " [ 1.31531103e+00 -1.41248738e+00 -1.03036361e-01 -7.10269682e-03\n",
      "  -5.80741372e-01  5.36056621e-01]\n",
      " [ 4.46790969e-02  1.10605763e+00  8.31048399e-01  8.46383428e-01\n",
      "   1.92924986e+00  2.23776616e-01]]\n",
      "\n",
      "---another way to transpose---\n",
      "[[ 1.04702965e+00  1.55020713e+00 -1.84217169e+00 -7.87183242e-04\n",
      "   6.17143990e-01  5.93229913e-01]\n",
      " [ 1.31531103e+00 -1.41248738e+00 -1.03036361e-01 -7.10269682e-03\n",
      "  -5.80741372e-01  5.36056621e-01]\n",
      " [ 4.46790969e-02  1.10605763e+00  8.31048399e-01  8.46383428e-01\n",
      "   1.92924986e+00  2.23776616e-01]]\n"
     ]
    }
   ],
   "source": [
    "# transpose matrix/array\n",
    "arr = np.random.randn(6, 3)\n",
    "print(arr)\n",
    "print(\"\\n---transposed form---\")\n",
    "print(arr.T)\n",
    "\n",
    "# this does the same\n",
    "print(\"\\n---another way to transpose---\")\n",
    "print(arr.transpose(1, 0))   # reorder 2nd (y-axis) with the 1st (x-axis)"
   ]
  },
  {
   "cell_type": "markdown",
   "metadata": {},
   "source": [
    "You can easily perform inner matrix product computations using `np.dot`:"
   ]
  },
  {
   "cell_type": "code",
   "execution_count": 19,
   "metadata": {},
   "outputs": [
    {
     "data": {
      "text/plain": [
       "array([[ 7.62579884, -0.66305834,  1.55317461],\n",
       "       [-0.66305834,  4.36044789, -2.59560362],\n",
       "       [ 1.55317461, -2.59560362,  6.40444704]])"
      ]
     },
     "execution_count": 19,
     "metadata": {},
     "output_type": "execute_result"
    }
   ],
   "source": [
    "# computation using np.dot\n",
    "np.dot(arr.T, arr)"
   ]
  },
  {
   "cell_type": "markdown",
   "metadata": {},
   "source": [
    "### More complex array swap/transpose\n",
    "\n",
    "For higher-dimensional arrays, you can use the `transpose` method that takes in a tuple of axes as an argument to permute the axes:"
   ]
  },
  {
   "cell_type": "code",
   "execution_count": 20,
   "metadata": {},
   "outputs": [
    {
     "name": "stdout",
     "output_type": "stream",
     "text": [
      "[[[ 0  1  2  3]\n",
      "  [ 4  5  6  7]]\n",
      "\n",
      " [[ 8  9 10 11]\n",
      "  [12 13 14 15]]]\n",
      "\n",
      "---1st axis, 1st item---\n",
      "[[0 1 2 3]\n",
      " [4 5 6 7]]\n",
      "\n",
      "---2nd axis, 1st item---\n",
      "[[ 0  1  2  3]\n",
      " [ 8  9 10 11]]\n",
      "\n",
      "---3rd axis, 1st item---\n",
      "[[ 0  4]\n",
      " [ 8 12]]\n",
      "\n",
      "\n",
      "[[[ 0  1  2  3]\n",
      "  [ 8  9 10 11]]\n",
      "\n",
      " [[ 4  5  6  7]\n",
      "  [12 13 14 15]]]\n"
     ]
    },
    {
     "data": {
      "text/plain": [
       "array([[[ 0,  1,  2,  3],\n",
       "        [ 8,  9, 10, 11]],\n",
       "\n",
       "       [[ 4,  5,  6,  7],\n",
       "        [12, 13, 14, 15]]])"
      ]
     },
     "execution_count": 20,
     "metadata": {},
     "output_type": "execute_result"
    }
   ],
   "source": [
    "arr = np.arange(16).reshape((2, 2, 4))  # reshape into a 3-dimensional array\n",
    "print(arr)\n",
    "\n",
    "print(\"\\n---1st axis, 1st item---\")\n",
    "print(arr[0])\n",
    "\n",
    "print(\"\\n---2nd axis, 1st item---\")\n",
    "print(arr[:,0])\n",
    "\n",
    "print(\"\\n---3rd axis, 1st item---\")\n",
    "print(arr[:,:,0])\n",
    "print(\"\\n\")\n",
    "\n",
    "# reorder axis: swap 2nd axis with the 1st\n",
    "print(arr.transpose((1, 0, 2)))\n",
    "\n",
    "# this does the same thing\n",
    "arr.swapaxes(1, 0)"
   ]
  },
  {
   "cell_type": "markdown",
   "metadata": {},
   "source": [
    "In the above example, the `swapaxes` method takes a pair of axis numbers and switches the indicated axes to rearrange the data:"
   ]
  },
  {
   "cell_type": "markdown",
   "metadata": {},
   "source": [
    "## Array-Oriented Programming Methods/Functions\n",
    "\n",
    "### Universal functions\n",
    "NumPy provides for simple element-wise transformations via universal functions like `sqrt` or `exp`. These include unary and binary functions. Below are listing of available universal functions:\n",
    "\n",
    "*Unary functions:*\n",
    "\n",
    "**Function** | **Description**\n",
    "--- | ---\n",
    "`abs`, `fabs` | Compute the absolute value element-wise\n",
    "`sqrt` | Compute square root of each element\n",
    "`exp` | Compute the exponent of each element\n",
    "`log`, `log10`, `log2`, `log1p` | Return the natural logarithm (base e), log base 10, log base 2, and log(1+x) respectively\n",
    "`isnan` | Return True or False values indicating whether each element is NaN (Not a Number)\n",
    "`isfinite`, `isinf` | Return True or False values indicating whether each element is finite or infinite, respectively\n",
    "`sign` | Compute the sign of each element: 1 (positive); 0 (zero); -1 (negative)\n",
    "`ceil` | Compute the ceiling of each element\n",
    "`floor` |  Compute the floor of each element\n",
    "`rint` | Round elements to the nearest integer, preserving `dtype`.\n",
    "`modf` | Return fractional and integral parts of array as a separate array\n",
    "`cos`, `cosh`, `sin`, `sinh`, `tan`, `tanh` | Regular and hyperbolic trigonometric functions\n",
    "`arccos`, `arccosh`, `arcsin`, `arcsinh`, `arctan`, `arctanh` | Inverse trigonometric functions\n",
    "`logical_not` | Compute truth value of `not` element-wise (same as `~arr`)\n",
    "\n",
    "\n",
    "*Binary functions:*\n",
    "\n",
    "**Function** | **Description**\n",
    "--- | ---\n",
    "`add` | Add corresponding elements in arrays\n",
    "`subtract` |  Subtract elements in second array from first array\n",
    "`multiply` | Multiply array elements\n",
    "`divide`, `floor_divide` |  Divide or floor divide (trauncating the reminder)\n",
    "`power` |  Raise elements in the first array to powers indicated in second array\n",
    "`maximum`, `fmax` | Element-wise maximum; fmax ignores `NaN`\n",
    "`minimum`, `fmin` | Element-wise minimum; fmin ignores `NaN`\n",
    "`mod` | Element-wise modulus (remainder of division) \n",
    "`copysign` | Copy sign of values in second argument to values in first argument\n",
    "`greater`, `greater_equal`, `less`, `less_equal`, `equal`, `not_equal` | Perform element-wise comparison, yielding boolean array (equivalent to infix operators `>`, `>=`, `<`, `<=`, `==`, `!=`)\n",
    "`logical_and`, `logical_or`, `logical_xor` | Compute element-wise truth value of logical operation (equivalent to infix opertors `&`, `|`, `^`)\n",
    "\n",
    "Some examples below:"
   ]
  },
  {
   "cell_type": "code",
   "execution_count": 21,
   "metadata": {},
   "outputs": [
    {
     "name": "stdout",
     "output_type": "stream",
     "text": [
      "x: [-2.11117862 -1.38421483  0.78456578 -1.74191495  0.2979324   0.55283881\n",
      " -0.2356603   0.37043209]\n",
      "\n",
      "y: [-0.40733503  1.61583361  0.31380518  0.96316142  1.84935993 -0.00380587\n",
      "  0.3626372   0.12928428]\n",
      "\n",
      "--max--\n",
      "[-0.40733503  1.61583361  0.78456578  0.96316142  1.84935993  0.55283881\n",
      "  0.3626372   0.37043209]\n",
      "\n",
      "--remainder--\n",
      "[-0.11117862 -0.38421483  0.78456578 -0.74191495  0.2979324   0.55283881\n",
      " -0.2356603   0.37043209]\n",
      "\n",
      "--whole_part--\n",
      "[-2. -1.  0. -1.  0.  0. -0.  0.]\n",
      "\n",
      "arr:\n",
      "[-0.30129098 14.2992103  -5.58044189  6.88271393  0.26160702  3.69593758\n",
      " -3.20925303 -7.81743112]\n",
      "\n",
      "square root:\n",
      "[       nan 3.78142966        nan 2.6234927  0.51147533 1.92248214\n",
      "        nan        nan]\n"
     ]
    },
    {
     "name": "stderr",
     "output_type": "stream",
     "text": [
      "<ipython-input-21-10dab6600ca1>:21: RuntimeWarning: invalid value encountered in sqrt\n",
      "  print(f\"\\nsquare root:\\n{np.sqrt(arr)}\")\n"
     ]
    }
   ],
   "source": [
    "x = np.random.randn(8)\n",
    "y = np.random.randn(8)\n",
    "print(f\"x: {x}\\n\")\n",
    "print(f\"y: {y}\\n\")\n",
    "\n",
    "# find maximum of the two element-wise\n",
    "z = np.maximum(x, y)\n",
    "print(f\"--max--\\n{z}\\n\")\n",
    "\n",
    "\n",
    "# sep integral and remainder\n",
    "remainder, whole_part = np.modf(x)\n",
    "print(f\"--remainder--\\n{remainder}\\n\")\n",
    "print(f\"--whole_part--\\n{whole_part}\\n\")\n",
    "\n",
    "\n",
    "arr = np.random.randn(8) * 5\n",
    "print(f\"arr:\\n{arr}\")\n",
    "\n",
    "# perform square root element-wise\n",
    "print(f\"\\nsquare root:\\n{np.sqrt(arr)}\")"
   ]
  },
  {
   "cell_type": "markdown",
   "metadata": {},
   "source": [
    "*Note: ignore the warning above - this is due to the `sqrt` function encountering negative values which it is unable to get square root, thus it outputs `NaN` values.*\n",
    "\n",
    "The above universal functions also accept an *out* parameter which assigns the result to the variable you pass in as the paremeter. You can thus make modifications to the arrays in-place by passing in the array object as the *out* argument:"
   ]
  },
  {
   "cell_type": "code",
   "execution_count": 22,
   "metadata": {},
   "outputs": [
    {
     "name": "stdout",
     "output_type": "stream",
     "text": [
      "[       nan 3.78142966        nan 2.6234927  0.51147533 1.92248214\n",
      "        nan        nan]\n",
      "\n",
      "[-0.30129098 14.2992103  -5.58044189  6.88271393  0.26160702  3.69593758\n",
      " -3.20925303 -7.81743112]\n",
      "\n",
      "[       nan 3.78142966        nan 2.6234927  0.51147533 1.92248214\n",
      "        nan        nan]\n"
     ]
    },
    {
     "name": "stderr",
     "output_type": "stream",
     "text": [
      "<ipython-input-22-37f33fc132cf>:3: RuntimeWarning: invalid value encountered in sqrt\n",
      "  np.sqrt(arr, newarr)  # assigns result to newarr\n",
      "<ipython-input-22-37f33fc132cf>:11: RuntimeWarning: invalid value encountered in sqrt\n",
      "  np.sqrt(arr, arr)\n"
     ]
    }
   ],
   "source": [
    "newarr = np.zeros(8)  # generating zero array\n",
    "\n",
    "np.sqrt(arr, newarr)  # assigns result to newarr \n",
    "print(newarr)\n",
    "print()\n",
    "\n",
    "print(arr)            # no modifications to the original array\n",
    "print()\n",
    "\n",
    "# square root on array elements in-place - modify the original values\n",
    "np.sqrt(arr, arr) \n",
    "print(arr)"
   ]
  },
  {
   "cell_type": "markdown",
   "metadata": {},
   "source": [
    "### Mathematical and Statistical Methods\n",
    "\n",
    "NumPy also supports aggregations like `sum`, `mean` and `std`. The listing of basic array statistical methods is as follow:\n",
    "\n",
    "**Method** | **Description**\n",
    "--- | ---\n",
    "`sum` | Sum of all the elements in the array or along an axis\n",
    "`mean` | Arithmethc mean; zero-length arrays have `NaN` mean\n",
    "`std`, `var` | Compute the standard deviation and variance, respectively; optional degrees of freedoms adjustment can be specified\n",
    "`min`, `max` | Compute the minimum and maximum\n",
    "`argmin`, `argmax` | Indices of minimum and maximum elements, respectively\n",
    "`cumsum` | Cumulative sum of elements starting from 0\n",
    "`cumprod` | Cumulative products of elements starting from 1\n",
    "\n",
    "You can invoke the methods like these:"
   ]
  },
  {
   "cell_type": "code",
   "execution_count": 23,
   "metadata": {},
   "outputs": [
    {
     "name": "stdout",
     "output_type": "stream",
     "text": [
      "[[-1.02289679  0.33499658  0.96298714  0.23950081  1.1831631 ]\n",
      " [-0.60236877 -2.05474543  1.48942154  0.17082935  0.17749735]\n",
      " [-0.19265065 -1.10570313 -1.99371048  0.22089198 -0.9388767 ]\n",
      " [ 0.09014213  0.0151223  -0.16486228 -0.67178845  0.1872414 ]]\n",
      "-0.1837904508764769\n",
      "-0.1837904508764769\n",
      "-3.6758090175295384\n"
     ]
    },
    {
     "data": {
      "text/plain": [
       "11"
      ]
     },
     "execution_count": 23,
     "metadata": {},
     "output_type": "execute_result"
    }
   ],
   "source": [
    "arr = np.random.randn(4, 5)\n",
    "print(arr)\n",
    "\n",
    "print(arr.mean())  # compute mean\n",
    "\n",
    "print(np.mean(arr))   # this does the same\n",
    "\n",
    "print(arr.sum())  # compute sum\n",
    "\n",
    "# combining with boolean condition and summation\n",
    "(arr > 0).sum()"
   ]
  },
  {
   "cell_type": "markdown",
   "metadata": {},
   "source": [
    "Some of these functions take an optional `axis` argument that computes over the given axis:"
   ]
  },
  {
   "cell_type": "code",
   "execution_count": 24,
   "metadata": {},
   "outputs": [
    {
     "name": "stdout",
     "output_type": "stream",
     "text": [
      "[ 0.33955017 -0.16387319 -0.8020098  -0.10882898]\n",
      "[-0.43194352 -0.70258242  0.07345898 -0.01014158  0.15225629]\n"
     ]
    }
   ],
   "source": [
    "print(arr.mean(axis=1))  # compute mean across columns for each row\n",
    "\n",
    "print(arr.mean(axis=0))  # compute mean across rows for each column"
   ]
  },
  {
   "cell_type": "markdown",
   "metadata": {},
   "source": [
    "### `any` and `all` methods\n",
    "\n",
    "`any` and `all` methods are useful especially for boolean arrays. `any` tests whether one or more values in an array is `True`, while `all` checks if every value is `True`. These methods also work with non-boolean arrays, where non-zero elements evaluted to `True`:"
   ]
  },
  {
   "cell_type": "code",
   "execution_count": 25,
   "metadata": {},
   "outputs": [
    {
     "data": {
      "text/plain": [
       "False"
      ]
     },
     "execution_count": 25,
     "metadata": {},
     "output_type": "execute_result"
    }
   ],
   "source": [
    "bools = np.array([False, False, True, False])\n",
    "\n",
    "bools.any()\n",
    "# True\n",
    "\n",
    "bools.all()\n",
    "# False"
   ]
  },
  {
   "cell_type": "markdown",
   "metadata": {},
   "source": [
    "### Sorting\n",
    "\n",
    "Like Python's built-in `list` type, NumPy arrays can be sorted in-place with the `sort` method:"
   ]
  },
  {
   "cell_type": "code",
   "execution_count": 26,
   "metadata": {
    "scrolled": true
   },
   "outputs": [
    {
     "name": "stdout",
     "output_type": "stream",
     "text": [
      "[ 0.49834781 -1.18482526 -1.42660612  0.12520968 -0.03206422 -0.58887238]\n",
      "[-1.42660612 -1.18482526 -0.58887238 -0.03206422  0.12520968  0.49834781]\n"
     ]
    },
    {
     "data": {
      "text/plain": [
       "array([ 0.49834781,  0.12520968, -0.03206422, -0.58887238, -1.18482526,\n",
       "       -1.42660612])"
      ]
     },
     "execution_count": 26,
     "metadata": {},
     "output_type": "execute_result"
    }
   ],
   "source": [
    "arr = np.random.randn(6)\n",
    "print(arr)\n",
    "\n",
    "# sort in ascending order\n",
    "arr.sort()\n",
    "print(arr)\n",
    "\n",
    "# reverse items to achieve descending sort order \n",
    "arr[::-1]"
   ]
  },
  {
   "cell_type": "code",
   "execution_count": 27,
   "metadata": {},
   "outputs": [
    {
     "data": {
      "text/plain": [
       "-1.7296701389013371"
      ]
     },
     "execution_count": 27,
     "metadata": {},
     "output_type": "execute_result"
    }
   ],
   "source": [
    "# practical example of using sort to compute quantile\n",
    "large_arr = np.random.randn(1000)\n",
    "large_arr.sort()\n",
    "\n",
    "large_arr[int(0.05 * len(large_arr))]  # 5% quantile"
   ]
  },
  {
   "cell_type": "markdown",
   "metadata": {},
   "source": [
    "You can sort each one-dimensional section of values in a multi-dimensional array in-place along an axis by passing the axis number to sort:"
   ]
  },
  {
   "cell_type": "code",
   "execution_count": 28,
   "metadata": {},
   "outputs": [
    {
     "name": "stdout",
     "output_type": "stream",
     "text": [
      "[[ 0.696008    0.63120932  0.27654188]\n",
      " [ 0.26259868 -0.67539874  0.53680632]\n",
      " [ 0.58511776 -0.35817726 -0.97035587]\n",
      " [ 0.18576395 -1.91013551  0.67378926]\n",
      " [ 0.16592759  1.25404482 -0.08799887]]\n",
      "\n",
      "[[ 0.27654188  0.63120932  0.696008  ]\n",
      " [-0.67539874  0.26259868  0.53680632]\n",
      " [-0.97035587 -0.35817726  0.58511776]\n",
      " [-1.91013551  0.18576395  0.67378926]\n",
      " [-0.08799887  0.16592759  1.25404482]]\n"
     ]
    }
   ],
   "source": [
    "arr = np.random.randn(5, 3)\n",
    "print(arr)\n",
    "\n",
    "arr.sort(1)  # sort elements within each row\n",
    "print(f\"\\n{arr}\")"
   ]
  },
  {
   "cell_type": "markdown",
   "metadata": {},
   "source": [
    "### Unique and Other Set Logic\n",
    "\n",
    "NumPy has some basic set operations for one-dimensional ndarrays. One commonly used operation is `np.unique`, which returns the sorted unique values in an array:"
   ]
  },
  {
   "cell_type": "code",
   "execution_count": 29,
   "metadata": {},
   "outputs": [
    {
     "data": {
      "text/plain": [
       "['Bob', 'Joe', 'Will']"
      ]
     },
     "execution_count": 29,
     "metadata": {},
     "output_type": "execute_result"
    }
   ],
   "source": [
    "names = np.array(['Bob', 'Joe', 'Will', 'Bob', 'Will', 'Joe', 'Joe'])\n",
    "\n",
    "np.unique(names)\n",
    "# ['Bob', 'Joe', 'Will']\n",
    "\n",
    "\n",
    "# contrast this with pure Python alternative method\n",
    "sorted(set(names))\n",
    "# ['Bob', 'Joe', 'Will']"
   ]
  },
  {
   "cell_type": "markdown",
   "metadata": {},
   "source": [
    "Another useful set method is `np.in1d`, which tests membership of the values in one array in another, returning a boolean array:"
   ]
  },
  {
   "cell_type": "code",
   "execution_count": 30,
   "metadata": {},
   "outputs": [
    {
     "data": {
      "text/plain": [
       "array([ True, False, False,  True,  True, False,  True])"
      ]
     },
     "execution_count": 30,
     "metadata": {},
     "output_type": "execute_result"
    }
   ],
   "source": [
    "values = np.array([6, 0, 0, 3, 2, 5, 6])\n",
    "np.in1d(values, [2, 3, 6])"
   ]
  },
  {
   "cell_type": "markdown",
   "metadata": {},
   "source": [
    "A listing of set functions in NumPy:\n",
    "\n",
    "**Method** | **Description**\n",
    "--- | ---\n",
    "unique(x) | Compute the sorted, unique elements in x\n",
    "intersect1d(x, y) | Compute the sorted, common elements in x and y\n",
    "union1d(x, y) |  Compute the sorted union of elements\n",
    "in1d(x, y) | Compute a boolean array indicating whether each element of x is contained in y\n",
    "setdiff1d(x, y) | Set difference, elements in x that are not in y\n",
    "setxor1d(x, y | Set symmetric differences; elements that are in either of the arrays, but not both"
   ]
  },
  {
   "cell_type": "markdown",
   "metadata": {},
   "source": [
    "### Linear Algebra\n",
    "\n",
    "Linear algebra, like matrix manipulation, decompositions, determinants, and other square matrix math, is an important part of any array library. Below table lists some of the most commonly used linear algebra functions for Numpy:\n",
    "\n",
    "**Function** | **Description**\n",
    "--- | ---\n",
    "`diag` | Return the diagonal elements of a square matrix as a 1D array, or convert a 1D array into a square matrix with zeros on the off-diagonal\n",
    "`dot` | Matrix multiplication\n",
    "`trace` | Compute the sum of the diagonal elements\n",
    "`det` | Compute the matrix determinant\n",
    "`eig` | Compute the eigenvalues and eigenvectors of a square matrix\n",
    "`inv` | Compute the inverse of a square matrix\n",
    "`pinv` | Compute the Moore-Penrose pseudo-inverse of a matrix\n",
    "\n",
    "Some examples of numpy's linear algebra methods:"
   ]
  },
  {
   "cell_type": "code",
   "execution_count": 31,
   "metadata": {},
   "outputs": [
    {
     "data": {
      "text/plain": [
       "array([[ 28.,  64.],\n",
       "       [ 67., 181.]])"
      ]
     },
     "execution_count": 31,
     "metadata": {},
     "output_type": "execute_result"
    }
   ],
   "source": [
    "x = np.array([[1., 2., 3.], [4., 5., 6.]])\n",
    "y = np.array([[6., 23.], [-1, 7], [8, 9]])\n",
    "\n",
    "# matrix dot product\n",
    "x.dot(y)\n",
    "# array([[ 28.,  64.],\n",
    "#        [ 67., 181.]])\n",
    "\n",
    "# this is the same as \n",
    "np.dot(x, y)"
   ]
  },
  {
   "cell_type": "markdown",
   "metadata": {},
   "source": [
    "## File Input and Output with Arrays\n",
    "\n",
    "NumPy is able to save and load data to and from disk either in text or binary format. `np.save` and `np.load` are the two workhorse functions for efficiently saving and loading array data on disk. Arrays are saved by default in an uncompressed raw binary format with file extension *.npy*:"
   ]
  },
  {
   "cell_type": "code",
   "execution_count": 32,
   "metadata": {},
   "outputs": [],
   "source": [
    "arr = np.arange(10)\n",
    "\n",
    "# save array into binary file, 'some_array.npy'\n",
    "np.save('some_array', arr)\n",
    "\n",
    "# load array from file\n",
    "x = np.load('some_array.npy')\n",
    "\n",
    "\n",
    "# saving multiple arrays in an uncompressed archive using np.savez\n",
    "np.savez('array_archive.npz', a=arr, b=arr)\n",
    "\n",
    "# loading .npz file\n",
    "arch = np.load('array_archive.npz')\n",
    "arch['b']\n",
    "# array([0, 1, 2, 3, 4, 5, 6, 7, 8, 9])\n",
    "\n",
    "\n",
    "# saving in compressed archvie with numpy.savez_compressed instead\n",
    "np.savez_compressed('arrays_compressed.npz', a=arr, b=arr)"
   ]
  },
  {
   "cell_type": "markdown",
   "metadata": {},
   "source": [
    "## Pseudorandom Number Generation\n",
    "\n",
    "You have already seen the use of `numpy.random` in the earlier examples. The `numpy.random` module supplements the built-in Python `random` with functions for efficiently generating whole arrays of sample values from various kinds of probability distributions. Python's built-in `random` module, by contrast, only samples one value at a time. Thus `numpy.random` is more suited for generating very large samples as shown below:"
   ]
  },
  {
   "cell_type": "code",
   "execution_count": 33,
   "metadata": {},
   "outputs": [
    {
     "name": "stdout",
     "output_type": "stream",
     "text": [
      "665 ms ± 7.89 ms per loop (mean ± std. dev. of 7 runs, 1 loop each)\n",
      "23.2 ms ± 266 µs per loop (mean ± std. dev. of 7 runs, 10 loops each)\n"
     ]
    }
   ],
   "source": [
    "from random import normalvariate\n",
    "\n",
    "N = 1_000_000\n",
    "\n",
    "# using built-in random for sample value generation\n",
    "%timeit samples = [normalvariate(0, 1) for _ in range(N)]\n",
    "\n",
    "# using numpy's random for sample value generation\n",
    "%timeit np.random.normal(size=N)"
   ]
  },
  {
   "cell_type": "code",
   "execution_count": 34,
   "metadata": {},
   "outputs": [],
   "source": [
    "# generating 4x4 array of values from standard normal distribution\n",
    "samples = np.random.normal(size=(4, 4))"
   ]
  },
  {
   "cell_type": "markdown",
   "metadata": {},
   "source": [
    "The *pseudorandom* numbers are generated by an algorithm with deterministic behaviour based on the *seed* of the random number generator. You can change NumPy's random number generation seed as follow:"
   ]
  },
  {
   "cell_type": "code",
   "execution_count": 35,
   "metadata": {},
   "outputs": [
    {
     "data": {
      "text/plain": [
       "array([ 0.47143516, -1.19097569,  1.43270697, -0.3126519 , -0.72058873,\n",
       "        0.88716294,  0.85958841, -0.6365235 ,  0.01569637, -2.24268495])"
      ]
     },
     "execution_count": 35,
     "metadata": {},
     "output_type": "execute_result"
    }
   ],
   "source": [
    "# setting global random seed\n",
    "np.random.seed(1234)\n",
    "\n",
    "# setting a local random seed\n",
    "rng = np.random.RandomState(1234)\n",
    "rng.randn(10)"
   ]
  },
  {
   "cell_type": "markdown",
   "metadata": {},
   "source": [
    "Table partially lists functions available in `numpy.random` module:\n",
    "\n",
    "**Function** | **Description**\n",
    "--- | ---\n",
    "`seed` | Seed the random number generator\n",
    "`permutation` | Return a random permutation of a sequence, or return a permutated range\n",
    "`shuffle` | Randomly permute a sequence in-place\n",
    "`rand` | Draw samples from a uniform distribution\n",
    "`randint` | Draw random integers from a given low-to-high range\n",
    "`randn` | Draw samples from a normal distribution with mean 0 and standard deviation 1\n",
    "`binomial` | Draw samples from a binomial distribution\n",
    "`normal` | Draw samples from a normal (Gaussian) distribution\n",
    "`beta`  | Draw samples from a beta distribution\n",
    "`chisquare` | Draw samples from a chi-square distribution\n",
    "`gamma` | Draw samples from a gamma distribution\n",
    "`uniform` | Draw samples from a uniform [0,1) distribution"
   ]
  }
 ],
 "metadata": {
  "kernelspec": {
   "display_name": "Python 3",
   "language": "python",
   "name": "python3"
  },
  "language_info": {
   "codemirror_mode": {
    "name": "ipython",
    "version": 3
   },
   "file_extension": ".py",
   "mimetype": "text/x-python",
   "name": "python",
   "nbconvert_exporter": "python",
   "pygments_lexer": "ipython3",
   "version": "3.8.2"
  }
 },
 "nbformat": 4,
 "nbformat_minor": 4
}
