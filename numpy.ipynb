{
 "cells": [
  {
   "cell_type": "markdown",
   "metadata": {},
   "source": [
    "# NumPy Basics\n",
    "\n",
    "NumPy - short for numerical Python - is an essential foundational packages for numerical computing in Python. One of Numpy's primary use in data analysis applications is as a container for data to be passed between algorithms and libraries. NumPy is more efficient for storing and manipulating data than the other built-in Python data structures is because it is designed for efficiency on large arrays of data. Reasons for this are:\n",
    "\n",
    "+ NumPy internally stores data in a contigious block of memory, independent of other built-in Python objects. It operate on this memory without any type checking or other overhead. NumPy also uses much less memory than other built-in Python sequences.\n",
    "+ NumPy operations perform complex computations on entire arrays without the need for Python `for` loops.\n",
    "\n",
    "First, we will firstly need to import numpy library in Python:"
   ]
  },
  {
   "cell_type": "code",
   "execution_count": 1,
   "metadata": {},
   "outputs": [],
   "source": [
    "# import numpy library and assigning alias, np\n",
    "import numpy as np"
   ]
  },
  {
   "cell_type": "markdown",
   "metadata": {},
   "source": [
    "Examples below illustrate the performance difference between computations on a NumPy array and a Python list:"
   ]
  },
  {
   "cell_type": "code",
   "execution_count": 2,
   "metadata": {},
   "outputs": [
    {
     "name": "stdout",
     "output_type": "stream",
     "text": [
      "CPU times: user 8.8 ms, sys: 4.84 ms, total: 13.6 ms\n",
      "Wall time: 13.5 ms\n",
      "CPU times: user 354 ms, sys: 56.4 ms, total: 410 ms\n",
      "Wall time: 410 ms\n"
     ]
    }
   ],
   "source": [
    "my_arr = np.arange(1_000_000)    # numpy array\n",
    "my_list = list(range(1_000_000)) # Python list\n",
    "\n",
    "# compute and display processing time for comparison\n",
    "%time for _ in range(10): my_arr2 = my_arr*2\n",
    "# time < 20 ms\n",
    "    \n",
    "%time for _ in range(10): my_list2 = [x * 2 for x in my_list]\n",
    "# time 400+ ms"
   ]
  },
  {
   "cell_type": "markdown",
   "metadata": {},
   "source": [
    "## The NumPy *ndarray*\n",
    "\n",
    "A key features of NumPy is its N-dimensional array object, or *ndarray* - a fast, flexible container for large datasets in Python. Arrays enable you to perform mathematical operations on whole blocks of data using similar syntax equivalent operations between scalar elements. Below are some examples of computations on NumPy arrays:"
   ]
  },
  {
   "cell_type": "code",
   "execution_count": 3,
   "metadata": {},
   "outputs": [
    {
     "name": "stdout",
     "output_type": "stream",
     "text": [
      "[[ 2.0944868  -0.52872199 -0.01112943]\n",
      " [ 0.4956448  -1.20064218 -0.6652001 ]]\n",
      "\n"
     ]
    },
    {
     "data": {
      "text/plain": [
       "array([[ 4.1889736 , -1.05744398, -0.02225885],\n",
       "       [ 0.99128959, -2.40128435, -1.3304002 ]])"
      ]
     },
     "execution_count": 3,
     "metadata": {},
     "output_type": "execute_result"
    }
   ],
   "source": [
    "data = np.random.randn(2,3) # generate 2x3 array of random numbers\n",
    "print(data)\n",
    "print(\"\")\n",
    "\n",
    "# multiply all elements by 10 in the array\n",
    "data * 10\n",
    "\n",
    "# add each array element by itself, i.e. double the elements\n",
    "data + data"
   ]
  },
  {
   "cell_type": "markdown",
   "metadata": {},
   "source": [
    "### Creating *ndarrays*\n",
    "\n",
    "Use the `array` function from the `numpy` class to create an array. For example:"
   ]
  },
  {
   "cell_type": "code",
   "execution_count": 4,
   "metadata": {},
   "outputs": [
    {
     "name": "stdout",
     "output_type": "stream",
     "text": [
      "[6, 7.5, 8, 0, 1]\n",
      "[6.  7.5 8.  0.  1. ]\n",
      "[[1, 2, 3, 4], [5, 6, 7, 8]]\n",
      "[[1 2 3 4]\n",
      " [5 6 7 8]]\n"
     ]
    }
   ],
   "source": [
    "data1 = [6, 7.5, 8, 0, 1]  # a list of numbers\n",
    "print(data1)\n",
    "\n",
    "arr1 = np.array(data1) # convert a list to numpy array\n",
    "print(arr1)\n",
    "\n",
    "data2 = [[1, 2, 3, 4], [5, 6, 7, 8]]  # a nested list comprising list of numbers\n",
    "print(data2)\n",
    "\n",
    "arr2 = np.array(data2) # convert nested lists to numpy array\n",
    "print(arr2)"
   ]
  },
  {
   "cell_type": "markdown",
   "metadata": {},
   "source": [
    "In addition to `np.array`, there are other ways for creating new arrays. As examples, zeros and ones create arrays of 0s and 1s, respectively, with a given length or shape. `empty` creates an array without initialising its values to any particular value. To create higher dimensional array with these methods, pass a tuple for the shape:"
   ]
  },
  {
   "cell_type": "code",
   "execution_count": 5,
   "metadata": {},
   "outputs": [
    {
     "name": "stdout",
     "output_type": "stream",
     "text": [
      "[0. 0. 0. 0. 0. 0. 0. 0. 0. 0.]\n",
      "\n",
      "[[0. 0. 0. 0. 0. 0.]\n",
      " [0. 0. 0. 0. 0. 0.]\n",
      " [0. 0. 0. 0. 0. 0.]]\n",
      "\n",
      "[[[4.68117802e-310 0.00000000e+000]\n",
      "  [0.00000000e+000 0.00000000e+000]\n",
      "  [0.00000000e+000 0.00000000e+000]]\n",
      "\n",
      " [[0.00000000e+000 0.00000000e+000]\n",
      "  [0.00000000e+000 0.00000000e+000]\n",
      "  [0.00000000e+000 0.00000000e+000]]]\n"
     ]
    }
   ],
   "source": [
    "# create array of 10 zeroes\n",
    "x = np.zeros(10)\n",
    "print(f\"{x}\\n\")\n",
    "\n",
    "# create 3x6 array of zeroes\n",
    "x = np.zeros((3, 6))\n",
    "print(f\"{x}\\n\")\n",
    "\n",
    "# create empty array of 2x3x2\n",
    "x = np.empty((2, 3, 2))\n",
    "print(f\"{x}\")"
   ]
  },
  {
   "cell_type": "markdown",
   "metadata": {},
   "source": [
    "**Note**: *`np.empty` does not set array values to zeroes; it may return uninitialised \"garbage\" values. It is marginally faster than zero array but on the other hand, it requires the user to manually set all the values in the array, thus should be used with caution.*"
   ]
  },
  {
   "cell_type": "markdown",
   "metadata": {},
   "source": [
    "### Array dimensions\n",
    "Inspecting dimensions of arrays:"
   ]
  },
  {
   "cell_type": "code",
   "execution_count": 6,
   "metadata": {},
   "outputs": [
    {
     "name": "stdout",
     "output_type": "stream",
     "text": [
      "2\n",
      "(2, 4)\n"
     ]
    }
   ],
   "source": [
    "# get n dimensions (i.e. rows)\n",
    "print(arr2.ndim)\n",
    "# 2\n",
    "\n",
    "# get n rows and m columns\n",
    "print(arr2.shape)\n",
    "# (2, 4)"
   ]
  },
  {
   "cell_type": "markdown",
   "metadata": {},
   "source": [
    "### Data Types for *ndarrays*\n",
    "\n",
    "`dtypes` are a source of NumPy's flexibility for interacting with data coming from other systems. They facilitate the ndarray to interpret a chunk of memory as a particular type of data. The `numpy.array()` arrays will attempt to infer an appropriate data type for the array created. "
   ]
  },
  {
   "cell_type": "code",
   "execution_count": 7,
   "metadata": {},
   "outputs": [
    {
     "name": "stdout",
     "output_type": "stream",
     "text": [
      "float64\n",
      "int64\n"
     ]
    }
   ],
   "source": [
    "print(arr1.dtype)  # float64\n",
    "print(arr2.dtype)  # int64"
   ]
  },
  {
   "cell_type": "markdown",
   "metadata": {},
   "source": [
    "We can set the `dtype` when creating arrays like below:"
   ]
  },
  {
   "cell_type": "code",
   "execution_count": 8,
   "metadata": {},
   "outputs": [
    {
     "name": "stdout",
     "output_type": "stream",
     "text": [
      "float64\n",
      "int32\n"
     ]
    }
   ],
   "source": [
    "arr1 = np.array([1, 2, 3], dtype=np.float64)  # generate array to store float values\n",
    "arr2 = np.array([1, 2, 3], dtype=np.int32)    # generate array to store integer values\n",
    "\n",
    "print(arr1.dtype)\n",
    "print(arr2.dtype)"
   ]
  },
  {
   "cell_type": "markdown",
   "metadata": {},
   "source": [
    "In most cases, *dtypes* provide a mapping directly onto an underlying disk or memory representation, which makes it easy to read and write binary streams of data to disk and also to connect to code written in a low-level language like C or Fortran. A standard double-precision floating-point value takes up 8 or 64 bits. Thus, this type is know in Numpy as `float64`. Below is the full listing of NumPy's supported data types:\n",
    "\n",
    "**Type** | **Type code** | **Description**\n",
    "--- | --- | ---\n",
    "int8, uint8 | i1, u1 | Signed and unsigned 8-bit (1 byte) integer types\n",
    "int16, uint16 | i2, u2 | Signed and unsigned 16-bit integer types\n",
    "int32, uint32 | i4, u4 | Signed and unsigned 32-bit integer types\n",
    "int64, uint64 | i8, u8 | Signed and unsigned 64-bit integer types\n",
    "--- | --- | ---\n",
    "float16 | f2 | Half-precision floating point\n",
    "float32 | f4 or f | Standard single-precision floating point; compatible with C float\n",
    "float64 | f8 or d | Standard double-precision floating point; compatible with C double and Python float object\n",
    "float128 | f16 or g | Extended-precision floating point\n",
    "--- | --- | ---\n",
    "complex64 | c8 | Complex numbers represented by two 32 floats \n",
    "complex128 | c16 | Complex numbers represented by two 64 floats \n",
    "complex256 | c32 | Complex numbers represented by two 128 floats \n",
    "--- | --- | ---\n",
    "bool | ? | Boolean type storing `True` and `False` values\n",
    "object | O | Python object type; a value can be any Python object\n",
    "string_ | S | Fixed-length ASCII type (1 byte per character)\n",
    "unicode_ | U | Fixed-length Unicode type (number of bytes platform specific)\n"
   ]
  },
  {
   "cell_type": "markdown",
   "metadata": {},
   "source": [
    "### Typecast using `astype` method\n",
    "You can explicitly convert or cast an array from one dtype to another, using `astype` method:"
   ]
  },
  {
   "cell_type": "code",
   "execution_count": 9,
   "metadata": {},
   "outputs": [
    {
     "data": {
      "text/plain": [
       "array([ 3, -1, -2,  0, 12, 10], dtype=int32)"
      ]
     },
     "execution_count": 9,
     "metadata": {},
     "output_type": "execute_result"
    }
   ],
   "source": [
    "arr = np.array([1, 2, 3, 4, 5])\n",
    "arr.dtype   \n",
    "# dtype('int64')\n",
    "\n",
    "# cast array to float64 type\n",
    "float_arr = arr.astype(np.float64)  \n",
    "\n",
    "float_arr.dtype  \n",
    "# dtype('float64')\n",
    "\n",
    "\n",
    "# casting from float to integer will truncate decimal part of values\n",
    "arr = np.array([3.7, -1.2, -2.6, 0.5, 12.9, 10.1])\n",
    "arr.dtype  \n",
    "# dtype('float64')\n",
    "\n",
    "arr.astype(np.int32)  \n",
    "# array([3, -1, -2, 0, 12, 10])"
   ]
  },
  {
   "cell_type": "markdown",
   "metadata": {},
   "source": [
    "**Note**: *Calling `astype` always create a new array (a copy of the data).*"
   ]
  },
  {
   "cell_type": "markdown",
   "metadata": {},
   "source": [
    "## Basic Indexing and Slicing\n",
    "\n",
    "Like Python lists, NumPy arrays also support indexing and slicing. For example:"
   ]
  },
  {
   "cell_type": "code",
   "execution_count": 10,
   "metadata": {},
   "outputs": [
    {
     "name": "stdout",
     "output_type": "stream",
     "text": [
      "5\n",
      "[5 6 7]\n",
      "[12 12 12]\n"
     ]
    }
   ],
   "source": [
    "arr = np.arange(10) # array([0, 1, 2, 3, 4, 5, 6, 7, 8, 9])\n",
    "\n",
    "print(arr[5])  # retrieve 6th elem\n",
    "\n",
    "print(arr[5:8])  # retrieve 6th to 8th items in the array\n",
    "\n",
    "arr[5:8] = 12\n",
    "\n",
    "print(arr[5:8])"
   ]
  },
  {
   "cell_type": "markdown",
   "metadata": {},
   "source": [
    "Accessing a two-dimensional array:"
   ]
  },
  {
   "cell_type": "code",
   "execution_count": 11,
   "metadata": {},
   "outputs": [
    {
     "data": {
      "text/plain": [
       "3"
      ]
     },
     "execution_count": 11,
     "metadata": {},
     "output_type": "execute_result"
    }
   ],
   "source": [
    "arr2d = np.array([[1, 2, 3], [4, 5, 6], [7, 8, 9]])\n",
    "arr2d[2]\n",
    "# [7, 8, 9]\n",
    "\n",
    "arr2d[0, 2]\n",
    "# 3"
   ]
  },
  {
   "cell_type": "markdown",
   "metadata": {},
   "source": [
    "**Note:** Unlike a Python list, array slices are *view* on the original array. Thus any value modifications done to the slice will be reflected in the source array."
   ]
  },
  {
   "cell_type": "code",
   "execution_count": 12,
   "metadata": {},
   "outputs": [
    {
     "name": "stdout",
     "output_type": "stream",
     "text": [
      "[   12 12345    12]\n",
      "[    0     1     2     3     4    12 12345    12     8     9]\n",
      "[    0     1     2     3     4 12345 12345 12345     8     9]\n"
     ]
    }
   ],
   "source": [
    "arr_slice = arr[5:8]  # obtain slice of 6th to 8th elements from array\n",
    "arr_slice[1] = 12345  # modify 1st item in slice\n",
    "\n",
    "print(arr_slice)\n",
    "\n",
    "# changes in slice is reflected in the original array\n",
    "print(arr)\n",
    "\n",
    "\n",
    "# this assigns to all values in an array\n",
    "arr_slice[:] = 12345\n",
    "\n",
    "print(arr)"
   ]
  },
  {
   "cell_type": "markdown",
   "metadata": {},
   "source": [
    "To prevent modifying the original array while working on array slices, you can use `copy()` method when slicing:"
   ]
  },
  {
   "cell_type": "code",
   "execution_count": 13,
   "metadata": {},
   "outputs": [
    {
     "name": "stdout",
     "output_type": "stream",
     "text": [
      "[[[42 42 42]\n",
      "  [42 42 42]]\n",
      "\n",
      " [[ 7  8  9]\n",
      "  [10 11 12]]]\n",
      "[[[ 1  2  3]\n",
      "  [ 4  5  6]]\n",
      "\n",
      " [[ 7  8  9]\n",
      "  [10 11 12]]]\n"
     ]
    }
   ],
   "source": [
    "arr3d = np.array([[[1, 2, 3], [4, 5, 6]], [[7, 8, 9], [10, 11, 12]]])\n",
    "\n",
    "# copy out the slice instead of getting just the \"view\"\n",
    "old_values = arr3d[0].copy()  \n",
    "\n",
    "# set values of first vector in the first dimension in the array to 42\n",
    "arr3d[0] = 42  \n",
    "print(arr3d)\n",
    "\n",
    "# reset back to old values\n",
    "arr3d[0] = old_values  \n",
    "print(arr3d)"
   ]
  },
  {
   "cell_type": "markdown",
   "metadata": {},
   "source": [
    "Illustration of two-dimensional array slicing:\n",
    "\n",
    "<img src=\"https://www.oreilly.com/library/view/python-for-data/9781449323592/httpatomoreillycomsourceoreillyimages2172114.png\" width=\"300\" />"
   ]
  },
  {
   "cell_type": "markdown",
   "metadata": {},
   "source": [
    "### Boolean Indexing\n",
    "\n",
    "Instead of numerical indexing, we can also use boolean indexing to select data from array in the examples below:"
   ]
  },
  {
   "cell_type": "code",
   "execution_count": 14,
   "metadata": {},
   "outputs": [
    {
     "name": "stdout",
     "output_type": "stream",
     "text": [
      "[[-0.20441146  0.38585087  1.4906113  -1.11342247]\n",
      " [ 0.15861823 -0.66297357  0.74105278 -0.30654483]\n",
      " [-0.63991352  0.06267597  1.03034626  0.63484943]\n",
      " [ 0.23983791 -0.24842102  0.2583728   0.24631569]\n",
      " [-0.04867771 -0.31855581 -0.55082843 -0.40598354]\n",
      " [ 0.66245713  0.84843414 -0.48019079  0.75375328]\n",
      " [-1.40734971  0.75494549 -1.34637765 -1.92290023]]\n",
      "\n",
      "\n",
      "[[-0.20441146  0.38585087  1.4906113  -1.11342247]\n",
      " [ 0.23983791 -0.24842102  0.2583728   0.24631569]]\n",
      "\n",
      "[[ 0.15861823 -0.66297357  0.74105278 -0.30654483]\n",
      " [-0.63991352  0.06267597  1.03034626  0.63484943]\n",
      " [-0.04867771 -0.31855581 -0.55082843 -0.40598354]\n",
      " [ 0.66245713  0.84843414 -0.48019079  0.75375328]\n",
      " [-1.40734971  0.75494549 -1.34637765 -1.92290023]]\n",
      "\n",
      "[[ 0.15861823 -0.66297357  0.74105278 -0.30654483]\n",
      " [-0.63991352  0.06267597  1.03034626  0.63484943]\n",
      " [-0.04867771 -0.31855581 -0.55082843 -0.40598354]\n",
      " [ 0.66245713  0.84843414 -0.48019079  0.75375328]\n",
      " [-1.40734971  0.75494549 -1.34637765 -1.92290023]]\n",
      "\n"
     ]
    }
   ],
   "source": [
    "# generate NumPy array from a list of names\n",
    "names = np.array(['Bob', 'Joe', 'Will', 'Bob', 'Will', 'Joe', 'Joe'])\n",
    "\n",
    "# generate random data array with number of rows corresponding to names.ndim (i.e. 7)\n",
    "data = np.random.randn(7, 4)\n",
    "print(data)\n",
    "print(\"\\n\")\n",
    "\n",
    "# return array of same shape comprising boolean result\n",
    "names == 'Bob'\n",
    "# array([ True, False, False,  True, False, False, False])\n",
    "\n",
    "\n",
    "# get array rows based on earlier condition result\n",
    "x = data[names == 'Bob']\n",
    "print(f\"{x}\\n\")\n",
    "\n",
    "# return array rows based on false negatives of earlier condition result\n",
    "x = data[~(names == 'Bob')]\n",
    "print(f\"{x}\\n\")\n",
    "\n",
    "# does the same as previous one\n",
    "x = data[names != 'Bob']\n",
    "print(f\"{x}\\n\")"
   ]
  },
  {
   "cell_type": "markdown",
   "metadata": {},
   "source": [
    "Combining multiple boolean conditions:"
   ]
  },
  {
   "cell_type": "code",
   "execution_count": 15,
   "metadata": {},
   "outputs": [
    {
     "data": {
      "text/plain": [
       "array([[-0.20441146,  0.38585087,  1.4906113 , -1.11342247],\n",
       "       [-0.63991352,  0.06267597,  1.03034626,  0.63484943],\n",
       "       [ 0.23983791, -0.24842102,  0.2583728 ,  0.24631569],\n",
       "       [-0.04867771, -0.31855581, -0.55082843, -0.40598354]])"
      ]
     },
     "execution_count": 15,
     "metadata": {},
     "output_type": "execute_result"
    }
   ],
   "source": [
    "mask = (names == 'Bob') | (names == 'Will')  # get boolean results of either name is 'Bob' or 'Will' (in 1-d array)\n",
    "# array([ True, False,  True,  True,  True, False, False])\n",
    "\n",
    "# returns n-th row of data array corresponding to true values in 'mask' array \n",
    "data[mask]"
   ]
  },
  {
   "cell_type": "code",
   "execution_count": 16,
   "metadata": {},
   "outputs": [
    {
     "name": "stdout",
     "output_type": "stream",
     "text": [
      "[[0.         0.38585087 1.4906113  0.        ]\n",
      " [0.15861823 0.         0.74105278 0.        ]\n",
      " [0.         0.06267597 1.03034626 0.63484943]\n",
      " [0.23983791 0.         0.2583728  0.24631569]\n",
      " [0.         0.         0.         0.        ]\n",
      " [0.66245713 0.84843414 0.         0.75375328]\n",
      " [0.         0.75494549 0.         0.        ]]\n",
      "\n",
      "[[7.         7.         7.         7.        ]\n",
      " [0.15861823 0.         0.74105278 0.        ]\n",
      " [7.         7.         7.         7.        ]\n",
      " [7.         7.         7.         7.        ]\n",
      " [7.         7.         7.         7.        ]\n",
      " [0.66245713 0.84843414 0.         0.75375328]\n",
      " [0.         0.75494549 0.         0.        ]]\n"
     ]
    }
   ],
   "source": [
    "# setting values less than zero in the array to zero\n",
    "data[data < 0] = 0\n",
    "print(f\"{data}\\n\")\n",
    "\n",
    "# setting values (in rows corresponding to names not Joe) in the array to 7\n",
    "data[names != 'Joe'] = 7\n",
    "print(data)"
   ]
  },
  {
   "cell_type": "markdown",
   "metadata": {},
   "source": [
    "### Fancy Indexing\n",
    "\n",
    "Fancy Indexing refers to indexing using integer arrays:"
   ]
  },
  {
   "cell_type": "code",
   "execution_count": 17,
   "metadata": {},
   "outputs": [
    {
     "name": "stdout",
     "output_type": "stream",
     "text": [
      "[[ 0  1  2  3]\n",
      " [ 4  5  6  7]\n",
      " [ 8  9 10 11]\n",
      " [12 13 14 15]\n",
      " [16 17 18 19]\n",
      " [20 21 22 23]\n",
      " [24 25 26 27]\n",
      " [28 29 30 31]]\n",
      "\n",
      "[[16 17 18 19]\n",
      " [12 13 14 15]\n",
      " [ 0  1  2  3]\n",
      " [24 25 26 27]]\n",
      "\n",
      "19\n",
      "\n"
     ]
    }
   ],
   "source": [
    "arr = np.arange(32).reshape((8, 4))   # generate series of 0-31 numbers and shape them into 8x4 array\n",
    "print(f\"{arr}\\n\")\n",
    "\n",
    "## pass in [4, 3, 0, 6] as 1 argument\n",
    "# get 5th, 4th, 1st and 7th rows of arr\n",
    "x = arr[[4, 3, 0, 6]]\n",
    "print(f\"{x}\\n\")\n",
    "\n",
    "# contrast with below code (less 1 pair of square brackets, which returns item in 5th row, 4th column\n",
    "x = arr[4, 3]\n",
    "print(f\"{x}\\n\")"
   ]
  },
  {
   "cell_type": "markdown",
   "metadata": {},
   "source": [
    "In the 2nd example above, we pass `[4, 3, 0, 6]` as the first argument for array indexing, which in turn will return array slice comprising the 5th, 4th, 1st and 7th rows (recall indices starts from zero in Python instead of 1) in that order. In the 3rd example, we pass in `4` as first argument and `3` as the second argument to retrieve the element residing in 5th row, 4th column of the array. \n",
    "\n",
    "Also note that fancy indexing *always copies* the data into a new array, unlike slicing.\n",
    "\n",
    "More complex indexing examples below:"
   ]
  },
  {
   "cell_type": "code",
   "execution_count": 18,
   "metadata": {},
   "outputs": [
    {
     "name": "stdout",
     "output_type": "stream",
     "text": [
      "[16 15  1 26]\n",
      "\n",
      "[19 15  3 27]\n",
      "\n",
      "[[ 0  1  2  3]\n",
      " [ 4  5  6  7]\n",
      " [ 8  9 10 11]\n",
      " [12 13 14 15]\n",
      " [16 17 18 19]\n",
      " [20 21 22 23]\n",
      " [24 25 26 27]\n",
      " [28 29 30 31]]\n"
     ]
    }
   ],
   "source": [
    "# retrieve the 1st, 4th, 2nd and 3rd elements from respective rows in the earlier data subarray\n",
    "x = arr[[4, 3, 0, 6], [0, 3, 1, 2]]\n",
    "print(f\"{x}\\n\")\n",
    "\n",
    "# retrieve the 4th column from the subarray specified by first argument: [4, 3, 0, 6]\n",
    "x = arr[[4, 3, 0, 6], 3]\n",
    "print(f\"{x}\\n\")\n",
    "\n",
    "# modifying the values in array returned by fancy indexing doesn't impact the original values\n",
    "x = arr[[4, 3, 0, 6], 3]\n",
    "x[0] = 1\n",
    "print(arr)"
   ]
  },
  {
   "cell_type": "markdown",
   "metadata": {},
   "source": [
    "## Transposing Array, Swapping Axes\n",
    "\n",
    "The transpose of a array returns a flipped view of the array over its diagonal, whereby the rows and columns are swapped. Transposing returns merely a *view* of the data thus modifying the returned transposed matrix will modify the original data. Arrays have the `transpose` method and also the special `T` attribute to facilitate the transpose operations:"
   ]
  },
  {
   "cell_type": "code",
   "execution_count": 19,
   "metadata": {},
   "outputs": [
    {
     "name": "stdout",
     "output_type": "stream",
     "text": [
      "[[ 1.2866073   0.4914248  -0.18620293]\n",
      " [-1.36610769  1.3869818   1.31073899]\n",
      " [-2.09584146 -1.08412288 -1.82264129]\n",
      " [-0.41615602 -1.55643405 -0.26918701]\n",
      " [ 0.24242452 -0.9274103  -1.64420362]\n",
      " [-0.70820537 -1.10987034  0.95317819]]\n",
      "\n",
      "---transposed form---\n",
      "[[ 1.2866073  -1.36610769 -2.09584146 -0.41615602  0.24242452 -0.70820537]\n",
      " [ 0.4914248   1.3869818  -1.08412288 -1.55643405 -0.9274103  -1.10987034]\n",
      " [-0.18620293  1.31073899 -1.82264129 -0.26918701 -1.64420362  0.95317819]]\n",
      "\n",
      "---another way to transpose---\n",
      "[[ 1.2866073  -1.36610769 -2.09584146 -0.41615602  0.24242452 -0.70820537]\n",
      " [ 0.4914248   1.3869818  -1.08412288 -1.55643405 -0.9274103  -1.10987034]\n",
      " [-0.18620293  1.31073899 -1.82264129 -0.26918701 -1.64420362  0.95317819]]\n"
     ]
    }
   ],
   "source": [
    "# transpose matrix/array\n",
    "arr = np.random.randn(6, 3)\n",
    "print(arr)\n",
    "print(\"\\n---transposed form---\")\n",
    "print(arr.T)\n",
    "\n",
    "# this does the same\n",
    "print(\"\\n---another way to transpose---\")\n",
    "print(arr.transpose(1, 0))   # reorder 2nd (y-axis) with the 1st (x-axis)"
   ]
  },
  {
   "cell_type": "markdown",
   "metadata": {},
   "source": [
    "You can easily perform inner matrix product computations using `np.dot`:"
   ]
  },
  {
   "cell_type": "code",
   "execution_count": 20,
   "metadata": {},
   "outputs": [
    {
     "data": {
      "text/plain": [
       "array([[8.6476703 , 2.21856245, 0.82816913],\n",
       "       [2.21856245, 7.85492824, 4.58835249],\n",
       "       [0.82816913, 4.58835249, 8.75914534]])"
      ]
     },
     "execution_count": 20,
     "metadata": {},
     "output_type": "execute_result"
    }
   ],
   "source": [
    "# computation using np.dot\n",
    "np.dot(arr.T, arr)"
   ]
  },
  {
   "cell_type": "markdown",
   "metadata": {},
   "source": [
    "### More complex array swap/transpose\n",
    "\n",
    "For higher-dimensional arrays, you can use the `transpose` method that takes in a tuple of axes as an argument to permute the axes:"
   ]
  },
  {
   "cell_type": "code",
   "execution_count": 21,
   "metadata": {},
   "outputs": [
    {
     "name": "stdout",
     "output_type": "stream",
     "text": [
      "[[[ 0  1  2  3]\n",
      "  [ 4  5  6  7]]\n",
      "\n",
      " [[ 8  9 10 11]\n",
      "  [12 13 14 15]]]\n",
      "\n",
      "---1st axis, 1st item---\n",
      "[[0 1 2 3]\n",
      " [4 5 6 7]]\n",
      "\n",
      "---2nd axis, 1st item---\n",
      "[[ 0  1  2  3]\n",
      " [ 8  9 10 11]]\n",
      "\n",
      "---3rd axis, 1st item---\n",
      "[[ 0  4]\n",
      " [ 8 12]]\n",
      "\n",
      "\n",
      "[[[ 0  1  2  3]\n",
      "  [ 8  9 10 11]]\n",
      "\n",
      " [[ 4  5  6  7]\n",
      "  [12 13 14 15]]]\n"
     ]
    },
    {
     "data": {
      "text/plain": [
       "array([[[ 0,  1,  2,  3],\n",
       "        [ 8,  9, 10, 11]],\n",
       "\n",
       "       [[ 4,  5,  6,  7],\n",
       "        [12, 13, 14, 15]]])"
      ]
     },
     "execution_count": 21,
     "metadata": {},
     "output_type": "execute_result"
    }
   ],
   "source": [
    "arr = np.arange(16).reshape((2, 2, 4))  # reshape into a 3-dimensional array\n",
    "print(arr)\n",
    "\n",
    "print(\"\\n---1st axis, 1st item---\")\n",
    "print(arr[0])\n",
    "\n",
    "print(\"\\n---2nd axis, 1st item---\")\n",
    "print(arr[:,0])\n",
    "\n",
    "print(\"\\n---3rd axis, 1st item---\")\n",
    "print(arr[:,:,0])\n",
    "print(\"\\n\")\n",
    "\n",
    "# reorder axis: swap 2nd axis with the 1st\n",
    "print(arr.transpose((1, 0, 2)))\n",
    "\n",
    "# this does the same thing\n",
    "arr.swapaxes(1, 0)"
   ]
  },
  {
   "cell_type": "markdown",
   "metadata": {},
   "source": [
    "In the above example, the `swapaxes` method takes a pair of axis numbers and switches the indicated axes to rearrange the data:"
   ]
  },
  {
   "cell_type": "markdown",
   "metadata": {},
   "source": [
    "## Array-Oriented Programming Methods/Functions\n",
    "\n",
    "### Universal functions\n",
    "NumPy provides for simple element-wise transformations via universal functions like `sqrt` or `exp`. These include unary and binary functions. Below are listing of available universal functions:\n",
    "\n",
    "*Unary functions:*\n",
    "\n",
    "**Function** | **Description**\n",
    "--- | ---\n",
    "`abs`, `fabs` | Compute the absolute value element-wise\n",
    "`sqrt` | Compute square root of each element\n",
    "`exp` | Compute the exponent of each element\n",
    "`log`, `log10`, `log2`, `log1p` | Return the natural logarithm (base e), log base 10, log base 2, and log(1+x) respectively\n",
    "`isnan` | Return True or False values indicating whether each element is NaN (Not a Number)\n",
    "`isfinite`, `isinf` | Return True or False values indicating whether each element is finite or infinite, respectively\n",
    "`sign` | Compute the sign of each element: 1 (positive); 0 (zero); -1 (negative)\n",
    "`ceil` | Compute the ceiling of each element\n",
    "`floor` |  Compute the floor of each element\n",
    "`rint` | Round elements to the nearest integer, preserving `dtype`.\n",
    "`modf` | Return fractional and integral parts of array as a separate array\n",
    "`cos`, `cosh`, `sin`, `sinh`, `tan`, `tanh` | Regular and hyperbolic trigonometric functions\n",
    "`arccos`, `arccosh`, `arcsin`, `arcsinh`, `arctan`, `arctanh` | Inverse trigonometric functions\n",
    "`logical_not` | Compute truth value of `not` element-wise (same as `~arr`)\n",
    "\n",
    "\n",
    "*Binary functions:*\n",
    "\n",
    "**Function** | **Description**\n",
    "--- | ---\n",
    "`add` | Add corresponding elements in arrays\n",
    "`subtract` |  Subtract elements in second array from first array\n",
    "`multiply` | Multiply array elements\n",
    "`divide`, `floor_divide` |  Divide or floor divide (trauncating the reminder)\n",
    "`power` |  Raise elements in the first array to powers indicated in second array\n",
    "`maximum`, `fmax` | Element-wise maximum; fmax ignores `NaN`\n",
    "`minimum`, `fmin` | Element-wise minimum; fmin ignores `NaN`\n",
    "`mod` | Element-wise modulus (remainder of division) \n",
    "`copysign` | Copy sign of values in second argument to values in first argument\n",
    "`greater`, `greater_equal`, `less`, `less_equal`, `equal`, `not_equal` | Perform element-wise comparison, yielding boolean array (equivalent to infix operators `>`, `>=`, `<`, `<=`, `==`, `!=`)\n",
    "`logical_and`, `logical_or`, `logical_xor` | Compute element-wise truth value of logical operation (equivalent to infix opertors `&`, `|`, `^`)\n",
    "\n",
    "Some examples below:"
   ]
  },
  {
   "cell_type": "code",
   "execution_count": 22,
   "metadata": {},
   "outputs": [
    {
     "name": "stdout",
     "output_type": "stream",
     "text": [
      "x: [-0.15894969  0.77372063 -0.8793879   0.62683877  0.76315083  0.54654707\n",
      "  1.5490606  -1.53560224]\n",
      "\n",
      "y: [-0.29311984 -0.4868165   1.15622616  0.48174356 -1.09519053 -1.78388079\n",
      "  1.58049864 -0.11923948]\n",
      "\n",
      "--max--\n",
      "[-0.15894969  0.77372063  1.15622616  0.62683877  0.76315083  0.54654707\n",
      "  1.58049864 -0.11923948]\n",
      "\n",
      "--remainder--\n",
      "[-0.15894969  0.77372063 -0.8793879   0.62683877  0.76315083  0.54654707\n",
      "  0.5490606  -0.53560224]\n",
      "\n",
      "--whole_part--\n",
      "[-0.  0. -0.  0.  0.  0.  1. -1.]\n",
      "\n",
      "arr:\n",
      "[ 3.23117781  0.13035162 -6.89460885 -6.53703462  8.52121238 -6.3233094\n",
      "  2.72469705  4.25251141]\n",
      "\n",
      "square root:\n",
      "[1.79754772 0.36104241        nan        nan 2.91911157        nan\n",
      " 1.65066564 2.06216183]\n"
     ]
    },
    {
     "name": "stderr",
     "output_type": "stream",
     "text": [
      "<ipython-input-22-10dab6600ca1>:21: RuntimeWarning: invalid value encountered in sqrt\n",
      "  print(f\"\\nsquare root:\\n{np.sqrt(arr)}\")\n"
     ]
    }
   ],
   "source": [
    "x = np.random.randn(8)\n",
    "y = np.random.randn(8)\n",
    "print(f\"x: {x}\\n\")\n",
    "print(f\"y: {y}\\n\")\n",
    "\n",
    "# find maximum of the two element-wise\n",
    "z = np.maximum(x, y)\n",
    "print(f\"--max--\\n{z}\\n\")\n",
    "\n",
    "\n",
    "# sep integral and remainder\n",
    "remainder, whole_part = np.modf(x)\n",
    "print(f\"--remainder--\\n{remainder}\\n\")\n",
    "print(f\"--whole_part--\\n{whole_part}\\n\")\n",
    "\n",
    "\n",
    "arr = np.random.randn(8) * 5\n",
    "print(f\"arr:\\n{arr}\")\n",
    "\n",
    "# perform square root element-wise\n",
    "print(f\"\\nsquare root:\\n{np.sqrt(arr)}\")"
   ]
  },
  {
   "cell_type": "markdown",
   "metadata": {},
   "source": [
    "*Note: ignore the warning above - this is due to the `sqrt` function encountering negative values which it is unable to get square root, thus it outputs `NaN` values.*\n",
    "\n",
    "The above universal functions also accept an *out* parameter which assigns the result to the variable you pass in as the paremeter. You can thus make modifications to the arrays in-place by passing in the array object as the *out* argument:"
   ]
  },
  {
   "cell_type": "code",
   "execution_count": 23,
   "metadata": {},
   "outputs": [
    {
     "name": "stdout",
     "output_type": "stream",
     "text": [
      "[1.79754772 0.36104241        nan        nan 2.91911157        nan\n",
      " 1.65066564 2.06216183]\n",
      "\n",
      "[ 3.23117781  0.13035162 -6.89460885 -6.53703462  8.52121238 -6.3233094\n",
      "  2.72469705  4.25251141]\n",
      "\n",
      "[1.79754772 0.36104241        nan        nan 2.91911157        nan\n",
      " 1.65066564 2.06216183]\n"
     ]
    },
    {
     "name": "stderr",
     "output_type": "stream",
     "text": [
      "<ipython-input-23-37f33fc132cf>:3: RuntimeWarning: invalid value encountered in sqrt\n",
      "  np.sqrt(arr, newarr)  # assigns result to newarr\n",
      "<ipython-input-23-37f33fc132cf>:11: RuntimeWarning: invalid value encountered in sqrt\n",
      "  np.sqrt(arr, arr)\n"
     ]
    }
   ],
   "source": [
    "newarr = np.zeros(8)  # generating zero array\n",
    "\n",
    "np.sqrt(arr, newarr)  # assigns result to newarr \n",
    "print(newarr)\n",
    "print()\n",
    "\n",
    "print(arr)            # no modifications to the original array\n",
    "print()\n",
    "\n",
    "# square root on array elements in-place - modify the original values\n",
    "np.sqrt(arr, arr) \n",
    "print(arr)"
   ]
  },
  {
   "cell_type": "markdown",
   "metadata": {},
   "source": [
    "### Mathematical and Statistical Methods\n",
    "\n",
    "NumPy also supports aggregations like `sum`, `mean` and `std`. The listing of basic array statistical methods is as follow:\n",
    "\n",
    "**Method** | **Description**\n",
    "--- | ---\n",
    "`sum` | Sum of all the elements in the array or along an axis\n",
    "`mean` | Arithmethc mean; zero-length arrays have `NaN` mean\n",
    "`std`, `var` | Compute the standard deviation and variance, respectively; optional degrees of freedoms adjustment can be specified\n",
    "`min`, `max` | Compute the minimum and maximum\n",
    "`argmin`, `argmax` | Indices of minimum and maximum elements, respectively\n",
    "`cumsum` | Cumulative sum of elements starting from 0\n",
    "`cumprod` | Cumulative products of elements starting from 1\n",
    "\n",
    "You can invoke the methods like these:"
   ]
  },
  {
   "cell_type": "code",
   "execution_count": 24,
   "metadata": {},
   "outputs": [
    {
     "name": "stdout",
     "output_type": "stream",
     "text": [
      "[[-0.25638144 -0.71708718  0.64333616  0.75040106 -0.95490357]\n",
      " [-0.92740085  1.29851017 -0.99399795  1.36076664 -0.32467909]\n",
      " [ 0.05133104  0.47344331 -0.11921875  0.1616873   0.30243564]\n",
      " [ 1.33633776  0.11551272  0.98103432 -0.39414133 -2.31799061]]\n",
      "0.023449768920625336\n",
      "0.023449768920625336\n",
      "0.4689953784125067\n"
     ]
    },
    {
     "data": {
      "text/plain": [
       "11"
      ]
     },
     "execution_count": 24,
     "metadata": {},
     "output_type": "execute_result"
    }
   ],
   "source": [
    "arr = np.random.randn(4, 5)\n",
    "print(arr)\n",
    "\n",
    "print(arr.mean())  # compute mean\n",
    "\n",
    "print(np.mean(arr))   # this does the same\n",
    "\n",
    "print(arr.sum())  # compute sum\n",
    "\n",
    "# combining with boolean condition and summation\n",
    "(arr > 0).sum()"
   ]
  },
  {
   "cell_type": "markdown",
   "metadata": {},
   "source": [
    "Some of these functions take an optional `axis` argument that computes over the given axis:"
   ]
  },
  {
   "cell_type": "code",
   "execution_count": 25,
   "metadata": {},
   "outputs": [
    {
     "name": "stdout",
     "output_type": "stream",
     "text": [
      "[-0.10692699  0.08263978  0.17393571 -0.05584943]\n",
      "[ 0.05097163  0.29259476  0.12778845  0.46967842 -0.82378441]\n"
     ]
    }
   ],
   "source": [
    "print(arr.mean(axis=1))  # compute mean across columns for each row\n",
    "\n",
    "print(arr.mean(axis=0))  # compute mean across rows for each column"
   ]
  },
  {
   "cell_type": "markdown",
   "metadata": {},
   "source": [
    "### `any` and `all` methods\n",
    "\n",
    "`any` and `all` methods are useful especially for boolean arrays. `any` tests whether one or more values in an array is `True`, while `all` checks if every value is `True`. These methods also work with non-boolean arrays, where non-zero elements evaluted to `True`:"
   ]
  },
  {
   "cell_type": "code",
   "execution_count": 26,
   "metadata": {},
   "outputs": [
    {
     "data": {
      "text/plain": [
       "False"
      ]
     },
     "execution_count": 26,
     "metadata": {},
     "output_type": "execute_result"
    }
   ],
   "source": [
    "bools = np.array([False, False, True, False])\n",
    "\n",
    "bools.any()\n",
    "# True\n",
    "\n",
    "bools.all()\n",
    "# False"
   ]
  },
  {
   "cell_type": "markdown",
   "metadata": {},
   "source": [
    "### Sorting\n",
    "\n",
    "Like Python's built-in `list` type, NumPy arrays can be sorted in-place with the `sort` method:"
   ]
  },
  {
   "cell_type": "code",
   "execution_count": 27,
   "metadata": {
    "scrolled": true
   },
   "outputs": [
    {
     "name": "stdout",
     "output_type": "stream",
     "text": [
      "[-0.13296879 -1.91632774 -0.7606464   0.18325439 -0.12973182  0.84770869]\n",
      "[-1.91632774 -0.7606464  -0.13296879 -0.12973182  0.18325439  0.84770869]\n"
     ]
    },
    {
     "data": {
      "text/plain": [
       "array([ 0.84770869,  0.18325439, -0.12973182, -0.13296879, -0.7606464 ,\n",
       "       -1.91632774])"
      ]
     },
     "execution_count": 27,
     "metadata": {},
     "output_type": "execute_result"
    }
   ],
   "source": [
    "arr = np.random.randn(6)\n",
    "print(arr)\n",
    "\n",
    "# sort in ascending order\n",
    "arr.sort()\n",
    "print(arr)\n",
    "\n",
    "# reverse items to achieve descending sort order \n",
    "arr[::-1]"
   ]
  },
  {
   "cell_type": "code",
   "execution_count": 28,
   "metadata": {},
   "outputs": [
    {
     "data": {
      "text/plain": [
       "-1.75501947244533"
      ]
     },
     "execution_count": 28,
     "metadata": {},
     "output_type": "execute_result"
    }
   ],
   "source": [
    "# practical example of using sort to compute quantile\n",
    "large_arr = np.random.randn(1000)\n",
    "large_arr.sort()\n",
    "\n",
    "large_arr[int(0.05 * len(large_arr))]  # 5% quantile"
   ]
  },
  {
   "cell_type": "markdown",
   "metadata": {},
   "source": [
    "You can sort each one-dimensional section of values in a multi-dimensional array in-place along an axis by passing the axis number to sort:"
   ]
  },
  {
   "cell_type": "code",
   "execution_count": 29,
   "metadata": {},
   "outputs": [
    {
     "name": "stdout",
     "output_type": "stream",
     "text": [
      "[[ 1.61717588 -1.15905903 -0.16806099]\n",
      " [ 0.06973258 -0.70753739 -1.00573093]\n",
      " [ 1.26978184  1.44786821  1.78312298]\n",
      " [ 0.49811927 -1.19723357 -0.12441345]\n",
      " [ 0.54398661  0.61491705  0.67638713]]\n",
      "\n",
      "[[-1.15905903 -0.16806099  1.61717588]\n",
      " [-1.00573093 -0.70753739  0.06973258]\n",
      " [ 1.26978184  1.44786821  1.78312298]\n",
      " [-1.19723357 -0.12441345  0.49811927]\n",
      " [ 0.54398661  0.61491705  0.67638713]]\n"
     ]
    }
   ],
   "source": [
    "arr = np.random.randn(5, 3)\n",
    "print(arr)\n",
    "\n",
    "arr.sort(1)  # sort elements within each row\n",
    "print(f\"\\n{arr}\")"
   ]
  },
  {
   "cell_type": "markdown",
   "metadata": {},
   "source": [
    "### Unique and Other Set Logic\n",
    "\n",
    "NumPy has some basic set operations for one-dimensional ndarrays. One commonly used operation is `np.unique`, which returns the sorted unique values in an array:"
   ]
  },
  {
   "cell_type": "code",
   "execution_count": 30,
   "metadata": {},
   "outputs": [
    {
     "data": {
      "text/plain": [
       "['Bob', 'Joe', 'Will']"
      ]
     },
     "execution_count": 30,
     "metadata": {},
     "output_type": "execute_result"
    }
   ],
   "source": [
    "names = np.array(['Bob', 'Joe', 'Will', 'Bob', 'Will', 'Joe', 'Joe'])\n",
    "\n",
    "np.unique(names)\n",
    "# ['Bob', 'Joe', 'Will']\n",
    "\n",
    "\n",
    "# contrast this with pure Python alternative method\n",
    "sorted(set(names))\n",
    "# ['Bob', 'Joe', 'Will']"
   ]
  },
  {
   "cell_type": "markdown",
   "metadata": {},
   "source": [
    "Another useful set method is `np.in1d`, which tests membership of the values in one array in another, returning a boolean array:"
   ]
  },
  {
   "cell_type": "code",
   "execution_count": 31,
   "metadata": {},
   "outputs": [
    {
     "data": {
      "text/plain": [
       "array([ True, False, False,  True,  True, False,  True])"
      ]
     },
     "execution_count": 31,
     "metadata": {},
     "output_type": "execute_result"
    }
   ],
   "source": [
    "values = np.array([6, 0, 0, 3, 2, 5, 6])\n",
    "np.in1d(values, [2, 3, 6])"
   ]
  },
  {
   "cell_type": "markdown",
   "metadata": {},
   "source": [
    "A listing of set functions in NumPy:\n",
    "\n",
    "**Method** | **Description**\n",
    "--- | ---\n",
    "unique(x) | Compute the sorted, unique elements in x\n",
    "intersect1d(x, y) | Compute the sorted, common elements in x and y\n",
    "union1d(x, y) |  Compute the sorted union of elements\n",
    "in1d(x, y) | Compute a boolean array indicating whether each element of x is contained in y\n",
    "setdiff1d(x, y) | Set difference, elements in x that are not in y\n",
    "setxor1d(x, y | Set symmetric differences; elements that are in either of the arrays, but not both"
   ]
  },
  {
   "cell_type": "markdown",
   "metadata": {},
   "source": [
    "### Linear Algebra\n",
    "\n",
    "Linear algebra, like matrix manipulation, decompositions, determinants, and other square matrix math, is an important part of any array library. Below table lists some of the most commonly used linear algebra functions for Numpy:\n",
    "\n",
    "**Function** | **Description**\n",
    "--- | ---\n",
    "`diag` | Return the diagonal elements of a square matrix as a 1D array, or convert a 1D array into a square matrix with zeros on the off-diagonal\n",
    "`dot` | Matrix multiplication\n",
    "`trace` | Compute the sum of the diagonal elements\n",
    "`det` | Compute the matrix determinant\n",
    "`eig` | Compute the eigenvalues and eigenvectors of a square matrix\n",
    "`inv` | Compute the inverse of a square matrix\n",
    "`pinv` | Compute the Moore-Penrose pseudo-inverse of a matrix\n",
    "\n",
    "Some examples of numpy's linear algebra methods:"
   ]
  },
  {
   "cell_type": "code",
   "execution_count": 32,
   "metadata": {},
   "outputs": [
    {
     "data": {
      "text/plain": [
       "array([[ 28.,  64.],\n",
       "       [ 67., 181.]])"
      ]
     },
     "execution_count": 32,
     "metadata": {},
     "output_type": "execute_result"
    }
   ],
   "source": [
    "x = np.array([[1., 2., 3.], [4., 5., 6.]])\n",
    "y = np.array([[6., 23.], [-1, 7], [8, 9]])\n",
    "\n",
    "# matrix dot product\n",
    "x.dot(y)\n",
    "# array([[ 28.,  64.],\n",
    "#        [ 67., 181.]])\n",
    "\n",
    "# this is the same as \n",
    "np.dot(x, y)"
   ]
  },
  {
   "cell_type": "markdown",
   "metadata": {},
   "source": [
    "## Pseudorandom Number Generation\n",
    "\n",
    "You have already seen the use of `numpy.random` in the earlier examples. The `numpy.random` module supplements the built-in Python `random` with functions for efficiently generating whole arrays of sample values from various kinds of probability distributions. Python's built-in `random` module, by contrast, only samples one value at a time. Thus `numpy.random` is more suited for generating very large samples as shown below:"
   ]
  },
  {
   "cell_type": "code",
   "execution_count": 33,
   "metadata": {},
   "outputs": [
    {
     "name": "stdout",
     "output_type": "stream",
     "text": [
      "689 ms ± 9.95 ms per loop (mean ± std. dev. of 7 runs, 1 loop each)\n",
      "23.4 ms ± 163 µs per loop (mean ± std. dev. of 7 runs, 10 loops each)\n"
     ]
    }
   ],
   "source": [
    "from random import normalvariate\n",
    "\n",
    "N = 1_000_000\n",
    "\n",
    "# using built-in random for sample value generation\n",
    "%timeit samples = [normalvariate(0, 1) for _ in range(N)]\n",
    "\n",
    "# using numpy's random for sample value generation\n",
    "%timeit np.random.normal(size=N)"
   ]
  },
  {
   "cell_type": "code",
   "execution_count": 34,
   "metadata": {},
   "outputs": [],
   "source": [
    "# generating 4x4 array of values from standard normal distribution\n",
    "samples = np.random.normal(size=(4, 4))"
   ]
  },
  {
   "cell_type": "markdown",
   "metadata": {},
   "source": [
    "The *pseudorandom* numbers are generated by an algorithm with deterministic behaviour based on the *seed* of the random number generator. You can change NumPy's random number generation seed as follow:"
   ]
  },
  {
   "cell_type": "code",
   "execution_count": 35,
   "metadata": {},
   "outputs": [
    {
     "data": {
      "text/plain": [
       "array([ 0.47143516, -1.19097569,  1.43270697, -0.3126519 , -0.72058873,\n",
       "        0.88716294,  0.85958841, -0.6365235 ,  0.01569637, -2.24268495])"
      ]
     },
     "execution_count": 35,
     "metadata": {},
     "output_type": "execute_result"
    }
   ],
   "source": [
    "# setting global random seed\n",
    "np.random.seed(1234)\n",
    "\n",
    "# setting a local random seed\n",
    "rng = np.random.RandomState(1234)\n",
    "rng.randn(10)"
   ]
  },
  {
   "cell_type": "markdown",
   "metadata": {},
   "source": [
    "Table partially lists functions available in `numpy.random` module:\n",
    "\n",
    "**Function** | **Description**\n",
    "--- | ---\n",
    "`seed` | Seed the random number generator\n",
    "`permutation` | Return a random permutation of a sequence, or return a permutated range\n",
    "`shuffle` | Randomly permute a sequence in-place\n",
    "`rand` | Draw samples from a uniform distribution\n",
    "`randint` | Draw random integers from a given low-to-high range\n",
    "`randn` | Draw samples from a normal distribution with mean 0 and standard deviation 1\n",
    "`binomial` | Draw samples from a binomial distribution\n",
    "`normal` | Draw samples from a normal (Gaussian) distribution\n",
    "`beta`  | Draw samples from a beta distribution\n",
    "`chisquare` | Draw samples from a chi-square distribution\n",
    "`gamma` | Draw samples from a gamma distribution\n",
    "`uniform` | Draw samples from a uniform [0,1) distribution"
   ]
  },
  {
   "cell_type": "markdown",
   "metadata": {},
   "source": [
    "## File Input and Output with Arrays\n",
    "\n",
    "NumPy is able to save and load data to and from disk either in text or binary format. `np.save` and `np.load` are the two workhorse functions for efficiently saving and loading array data on disk. Arrays are saved by default in an uncompressed raw binary format with file extension *.npy*:"
   ]
  },
  {
   "cell_type": "code",
   "execution_count": 36,
   "metadata": {},
   "outputs": [],
   "source": [
    "arr = np.arange(10)\n",
    "\n",
    "# save array into binary file, 'some_array.npy'\n",
    "np.save('some_array', arr)\n",
    "\n",
    "# load array from file\n",
    "x = np.load('some_array.npy')\n",
    "\n",
    "\n",
    "# saving multiple arrays in an uncompressed archive using np.savez\n",
    "np.savez('array_archive.npz', a=arr, b=arr)\n",
    "\n",
    "# loading .npz file\n",
    "arch = np.load('array_archive.npz')\n",
    "arch['b']\n",
    "# array([0, 1, 2, 3, 4, 5, 6, 7, 8, 9])\n",
    "\n",
    "\n",
    "# saving in compressed archvie with numpy.savez_compressed instead\n",
    "np.savez_compressed('arrays_compressed.npz', a=arr, b=arr)"
   ]
  },
  {
   "cell_type": "markdown",
   "metadata": {},
   "source": [
    "## Applying NumPy: Random Walks Simulation\n",
    "\n",
    "The simulation of random walks offers an illustrative application of utilising array operations. Let's consider a simple random walk starting at 0 with steps of 1 and -1 occuring with equal probability and visualising with a simple function from matplotlib:"
   ]
  },
  {
   "cell_type": "code",
   "execution_count": 37,
   "metadata": {},
   "outputs": [
    {
     "data": {
      "text/plain": [
       "60"
      ]
     },
     "execution_count": 37,
     "metadata": {},
     "output_type": "execute_result"
    },
    {
     "data": {
      "image/png": "[encoded data removed]",
      "text/plain": [
       "<Figure size 432x288 with 1 Axes>"
      ]
     },
     "metadata": {
      "needs_background": "light"
     },
     "output_type": "display_data"
    }
   ],
   "source": [
    "import random\n",
    "import matplotlib.pyplot as plt\n",
    "\n",
    "# Approach 1: simulating in a \"pure\" Python approach\n",
    "position = 0\n",
    "walk = [position]  \n",
    "steps = 1000\n",
    "\n",
    "for i in range(steps):\n",
    "    step = 1 if random.randint(0, 1) else -1\n",
    "    position += step\n",
    "    walk.append(position)\n",
    "    \n",
    "plt.plot(walk[:1000])   # represented by blue line\n",
    "\n",
    "\n",
    "# Approach 2: achieving the same with NumPy arrays\n",
    "nsteps = 1000\n",
    "draws = np.random.randint(0, 2, size = nsteps)  # generate 1000x1 array with values of either 0 or 1\n",
    "steps = np.where(draws > 0, 1, -1)  # compute on \"draws\" array: translate 1->1 and 0->-1\n",
    "walk=steps.cumsum()   # compute on \"steps\" array: obtain cumulative sum\n",
    "\n",
    "plt.plot(walk[:1000])   # represented by orange line\n",
    "\n",
    "\n",
    "# getting maximum and minimum of random walk values\n",
    "walk.min()   \n",
    "walk.max()"
   ]
  },
  {
   "cell_type": "markdown",
   "metadata": {},
   "source": [
    "Simulating multiple random walks at once with NumPy with ease:"
   ]
  },
  {
   "cell_type": "code",
   "execution_count": 38,
   "metadata": {},
   "outputs": [
    {
     "data": {
      "text/plain": [
       "array([[  1,   2,   3, ...,  46,  47,  46],\n",
       "       [  1,   0,   1, ...,  40,  41,  42],\n",
       "       [  1,   2,   3, ..., -26, -27, -28],\n",
       "       ...,\n",
       "       [ -1,  -2,  -1, ...,  26,  25,  26],\n",
       "       [ -1,   0,   1, ...,  -4,  -5,  -4],\n",
       "       [ -1,  -2,  -3, ...,  -6,  -5,  -4]])"
      ]
     },
     "execution_count": 38,
     "metadata": {},
     "output_type": "execute_result"
    }
   ],
   "source": [
    "nwalks = 1000\n",
    "nsteps = 1000\n",
    "\n",
    "draws = np.random.randint(0, 2, size=(nwalks, nsteps))  # 0 or 1\n",
    "steps = np.where(draws > 0, 1, -1)\n",
    "walks = steps.cumsum(1)\n",
    "\n",
    "walks"
   ]
  },
  {
   "cell_type": "code",
   "execution_count": 39,
   "metadata": {},
   "outputs": [
    {
     "data": {
      "text/plain": [
       "array([133, 395, 343, 301, 205, 407, 303, 631, 239, 735, 963,  95, 121,\n",
       "       191, 553, 639, 951, 403, 607, 735, 371, 233, 953, 447, 909, 289,\n",
       "       639, 749, 303, 163, 835, 131, 351, 723,  75, 557, 357, 661, 751,\n",
       "       273, 457, 507, 647, 485, 933, 163, 337, 461, 777, 293, 367, 239,\n",
       "       953, 889, 619, 429, 181, 779, 947, 109, 385, 375, 123, 937, 537,\n",
       "       245, 771, 279, 733, 999, 863, 317, 577, 445, 145, 175, 673, 943,\n",
       "       533, 605, 971, 807, 921, 609, 341, 635, 727, 393, 497, 437, 217,\n",
       "       465, 905, 519, 935, 759, 781, 841, 259, 441,  75, 871, 573, 209,\n",
       "       639, 705, 267, 753, 237, 211, 631, 375, 451, 239, 897, 267, 253,\n",
       "       463, 609, 615, 215, 883, 253, 749, 561, 397, 431, 707, 477, 775,\n",
       "       355, 665, 577, 649, 327, 667, 135, 305, 655, 213, 223, 557,  93,\n",
       "       567, 287, 755, 827, 569, 303, 245, 535, 385, 945, 731, 639, 837,\n",
       "       295, 663, 531, 363, 647, 825, 147, 481, 479, 701, 251, 613, 493,\n",
       "       841, 487, 269, 917, 509, 859, 323, 325, 919, 591, 831, 761, 585,\n",
       "       239, 459, 349, 773, 433, 895, 245, 273, 163, 761, 315, 779, 351,\n",
       "       151, 309, 337, 435, 763, 445, 371, 919, 371, 535, 643, 495, 331,\n",
       "       387, 469, 253, 579, 909, 317, 395, 901, 209, 551, 363, 135, 109,\n",
       "       589, 571, 369, 891, 229, 931, 713, 585, 989, 513, 551, 343, 755,\n",
       "       345, 793, 645, 359, 679, 965, 375, 587, 259, 995, 727, 797, 333,\n",
       "       631, 395, 175, 257, 171, 165, 201, 183, 175, 603, 231, 375, 655,\n",
       "       391, 565, 433, 781, 223, 665, 253, 743, 809, 847, 449, 257, 431,\n",
       "       361, 477, 253, 565, 167, 151, 301, 657, 751, 871, 423, 321, 179,\n",
       "       165, 625, 329, 275, 637, 295, 609, 937, 377, 709, 487, 561, 887,\n",
       "       475, 437, 245, 313, 753, 319, 805, 789, 415, 545, 535, 589, 387,\n",
       "       399, 723, 669, 839, 479, 335, 323, 311, 385, 339, 667, 517, 663,\n",
       "       601, 913, 369, 359, 369, 331, 307, 623, 155, 159, 777, 379, 143,\n",
       "       399, 995, 343, 813, 435, 637, 673, 363,  99, 541, 201, 411, 657,\n",
       "       349, 581, 353, 815, 319, 725, 535, 265, 101, 447, 171, 995, 837,\n",
       "       711, 267, 929, 733, 737, 241, 577, 879, 463, 963, 599, 333, 247,\n",
       "       191, 831, 497, 773, 343, 271, 213, 859, 473, 507, 385, 787, 251,\n",
       "       511, 509, 449, 269, 551, 787, 393, 165, 777, 793, 687, 653, 907,\n",
       "       923, 379, 965, 393, 239, 663, 397, 753, 537, 589, 583, 101, 919,\n",
       "       349, 357, 587, 121, 503, 559, 975, 993, 867, 605, 599, 687, 617,\n",
       "       487, 929, 209, 145, 839, 503, 569, 811, 853, 447, 305, 963, 349,\n",
       "       595, 369, 113, 953, 145, 613, 247, 329, 429, 441,  59, 427, 689,\n",
       "       539, 375, 223, 149, 215, 395, 153, 529, 749, 687, 341, 217, 795,\n",
       "       567, 521, 471, 839, 267, 721, 135, 171, 337, 223, 437, 253, 543,\n",
       "       925, 177, 537, 279, 229, 985, 163, 989, 777, 435, 511, 187, 671,\n",
       "       757, 335, 525, 559, 513, 151, 505, 655, 943, 683, 381, 589, 889,\n",
       "       987, 311, 279, 339, 983, 791, 705, 269, 371, 427, 861, 463, 723,\n",
       "       349, 483, 681, 555, 953, 237, 449, 747, 491, 259, 375, 561, 509,\n",
       "       469, 777, 307, 243, 153, 237, 269, 247, 371, 639, 289, 771, 173,\n",
       "       283, 569, 481, 635, 437, 571, 723, 883, 521, 673, 597, 597, 347,\n",
       "       421, 899, 339, 463, 379, 539, 691, 731, 463, 691, 935, 999, 791,\n",
       "       199, 463, 713, 651, 445, 435, 205, 725, 229, 475, 423, 403, 207,\n",
       "       651, 923, 553, 831, 791, 779, 395, 485, 619, 867, 141, 595, 915,\n",
       "       955, 985, 241, 371, 283, 727, 205, 985, 491, 333, 797, 177, 385,\n",
       "       163, 423, 305, 881, 751, 825, 795,  85, 545, 217, 693, 915, 957,\n",
       "       451, 473, 403, 369, 381, 621, 359, 699, 769, 375, 889, 361, 625,\n",
       "       261, 511, 755, 305, 867, 633, 179, 859, 245, 445, 965, 229, 435,\n",
       "       655, 585, 197, 313])"
      ]
     },
     "execution_count": 39,
     "metadata": {},
     "output_type": "execute_result"
    }
   ],
   "source": [
    "# compute maximum and minimum values of all 1000 walks\n",
    "walks.max()\n",
    "walks.min()\n",
    "\n",
    "hits30 = (np.abs(walks) >= 30).any(1)  # evaluate whether each walk has hit value of 30 or greater\n",
    "\n",
    "hits30.sum()  # compute number of walks that hit 30\n",
    "\n",
    "# compute number of walks to achieve 30 for those that do hit\n",
    "crossing_times = (np.abs(walks[hits30]) >= 30).argmax(1)\n",
    "crossing_times"
   ]
  }
 ],
 "metadata": {
  "kernelspec": {
   "display_name": "Python 3",
   "language": "python",
   "name": "python3"
  },
  "language_info": {
   "codemirror_mode": {
    "name": "ipython",
    "version": 3
   },
   "file_extension": ".py",
   "mimetype": "text/x-python",
   "name": "python",
   "nbconvert_exporter": "python",
   "pygments_lexer": "ipython3",
   "version": "3.8.2"
  }
 },
 "nbformat": 4,
 "nbformat_minor": 4
}
